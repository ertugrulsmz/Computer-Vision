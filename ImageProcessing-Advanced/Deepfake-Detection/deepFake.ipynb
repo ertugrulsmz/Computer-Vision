{
  "nbformat": 4,
  "nbformat_minor": 0,
  "metadata": {
    "accelerator": "GPU",
    "colab": {
      "name": "Untitled0.ipynb",
      "provenance": [],
      "collapsed_sections": [],
      "toc_visible": true
    },
    "kernelspec": {
      "display_name": "Python 3",
      "name": "python3"
    },
    "widgets": {
      "application/vnd.jupyter.widget-state+json": {
        "3275135292364d0caf424024dc56a9c9": {
          "model_module": "@jupyter-widgets/controls",
          "model_name": "HBoxModel",
          "state": {
            "_dom_classes": [],
            "_model_module": "@jupyter-widgets/controls",
            "_model_module_version": "1.5.0",
            "_model_name": "HBoxModel",
            "_view_count": null,
            "_view_module": "@jupyter-widgets/controls",
            "_view_module_version": "1.5.0",
            "_view_name": "HBoxView",
            "box_style": "",
            "children": [
              "IPY_MODEL_b02030b4b9a449348a5455370dbd841c",
              "IPY_MODEL_4dd704d7e13e4565b07c7578dc518646"
            ],
            "layout": "IPY_MODEL_0ef2d7ec988c41de841b48389f8758e1"
          }
        },
        "b02030b4b9a449348a5455370dbd841c": {
          "model_module": "@jupyter-widgets/controls",
          "model_name": "FloatProgressModel",
          "state": {
            "_dom_classes": [],
            "_model_module": "@jupyter-widgets/controls",
            "_model_module_version": "1.5.0",
            "_model_name": "FloatProgressModel",
            "_view_count": null,
            "_view_module": "@jupyter-widgets/controls",
            "_view_module_version": "1.5.0",
            "_view_name": "ProgressView",
            "bar_style": "success",
            "description": "100%",
            "description_tooltip": null,
            "layout": "IPY_MODEL_99bbdcf7a88349d9b01d0a66916c8aa3",
            "max": 111898327,
            "min": 0,
            "orientation": "horizontal",
            "style": "IPY_MODEL_08de9ab334674ce782c3e4cbdeb7eb1a",
            "value": 111898327
          }
        },
        "4dd704d7e13e4565b07c7578dc518646": {
          "model_module": "@jupyter-widgets/controls",
          "model_name": "HTMLModel",
          "state": {
            "_dom_classes": [],
            "_model_module": "@jupyter-widgets/controls",
            "_model_module_version": "1.5.0",
            "_model_name": "HTMLModel",
            "_view_count": null,
            "_view_module": "@jupyter-widgets/controls",
            "_view_module_version": "1.5.0",
            "_view_name": "HTMLView",
            "description": "",
            "description_tooltip": null,
            "layout": "IPY_MODEL_28e0d40cd0b645a1a1fef341785cd1e7",
            "placeholder": "​",
            "style": "IPY_MODEL_f011aade1a064c62b8da20f31aa31155",
            "value": " 107M/107M [00:02&lt;00:00, 40.3MB/s]"
          }
        },
        "0ef2d7ec988c41de841b48389f8758e1": {
          "model_module": "@jupyter-widgets/base",
          "model_name": "LayoutModel",
          "state": {
            "_model_module": "@jupyter-widgets/base",
            "_model_module_version": "1.2.0",
            "_model_name": "LayoutModel",
            "_view_count": null,
            "_view_module": "@jupyter-widgets/base",
            "_view_module_version": "1.2.0",
            "_view_name": "LayoutView",
            "align_content": null,
            "align_items": null,
            "align_self": null,
            "border": null,
            "bottom": null,
            "display": null,
            "flex": null,
            "flex_flow": null,
            "grid_area": null,
            "grid_auto_columns": null,
            "grid_auto_flow": null,
            "grid_auto_rows": null,
            "grid_column": null,
            "grid_gap": null,
            "grid_row": null,
            "grid_template_areas": null,
            "grid_template_columns": null,
            "grid_template_rows": null,
            "height": null,
            "justify_content": null,
            "justify_items": null,
            "left": null,
            "margin": null,
            "max_height": null,
            "max_width": null,
            "min_height": null,
            "min_width": null,
            "object_fit": null,
            "object_position": null,
            "order": null,
            "overflow": null,
            "overflow_x": null,
            "overflow_y": null,
            "padding": null,
            "right": null,
            "top": null,
            "visibility": null,
            "width": null
          }
        },
        "99bbdcf7a88349d9b01d0a66916c8aa3": {
          "model_module": "@jupyter-widgets/base",
          "model_name": "LayoutModel",
          "state": {
            "_model_module": "@jupyter-widgets/base",
            "_model_module_version": "1.2.0",
            "_model_name": "LayoutModel",
            "_view_count": null,
            "_view_module": "@jupyter-widgets/base",
            "_view_module_version": "1.2.0",
            "_view_name": "LayoutView",
            "align_content": null,
            "align_items": null,
            "align_self": null,
            "border": null,
            "bottom": null,
            "display": null,
            "flex": null,
            "flex_flow": null,
            "grid_area": null,
            "grid_auto_columns": null,
            "grid_auto_flow": null,
            "grid_auto_rows": null,
            "grid_column": null,
            "grid_gap": null,
            "grid_row": null,
            "grid_template_areas": null,
            "grid_template_columns": null,
            "grid_template_rows": null,
            "height": null,
            "justify_content": null,
            "justify_items": null,
            "left": null,
            "margin": null,
            "max_height": null,
            "max_width": null,
            "min_height": null,
            "min_width": null,
            "object_fit": null,
            "object_position": null,
            "order": null,
            "overflow": null,
            "overflow_x": null,
            "overflow_y": null,
            "padding": null,
            "right": null,
            "top": null,
            "visibility": null,
            "width": null
          }
        },
        "08de9ab334674ce782c3e4cbdeb7eb1a": {
          "model_module": "@jupyter-widgets/controls",
          "model_name": "ProgressStyleModel",
          "state": {
            "_model_module": "@jupyter-widgets/controls",
            "_model_module_version": "1.5.0",
            "_model_name": "ProgressStyleModel",
            "_view_count": null,
            "_view_module": "@jupyter-widgets/base",
            "_view_module_version": "1.2.0",
            "_view_name": "StyleView",
            "bar_color": null,
            "description_width": "initial"
          }
        },
        "28e0d40cd0b645a1a1fef341785cd1e7": {
          "model_module": "@jupyter-widgets/base",
          "model_name": "LayoutModel",
          "state": {
            "_model_module": "@jupyter-widgets/base",
            "_model_module_version": "1.2.0",
            "_model_name": "LayoutModel",
            "_view_count": null,
            "_view_module": "@jupyter-widgets/base",
            "_view_module_version": "1.2.0",
            "_view_name": "LayoutView",
            "align_content": null,
            "align_items": null,
            "align_self": null,
            "border": null,
            "bottom": null,
            "display": null,
            "flex": null,
            "flex_flow": null,
            "grid_area": null,
            "grid_auto_columns": null,
            "grid_auto_flow": null,
            "grid_auto_rows": null,
            "grid_column": null,
            "grid_gap": null,
            "grid_row": null,
            "grid_template_areas": null,
            "grid_template_columns": null,
            "grid_template_rows": null,
            "height": null,
            "justify_content": null,
            "justify_items": null,
            "left": null,
            "margin": null,
            "max_height": null,
            "max_width": null,
            "min_height": null,
            "min_width": null,
            "object_fit": null,
            "object_position": null,
            "order": null,
            "overflow": null,
            "overflow_x": null,
            "overflow_y": null,
            "padding": null,
            "right": null,
            "top": null,
            "visibility": null,
            "width": null
          }
        },
        "f011aade1a064c62b8da20f31aa31155": {
          "model_module": "@jupyter-widgets/controls",
          "model_name": "DescriptionStyleModel",
          "state": {
            "_model_module": "@jupyter-widgets/controls",
            "_model_module_version": "1.5.0",
            "_model_name": "DescriptionStyleModel",
            "_view_count": null,
            "_view_module": "@jupyter-widgets/base",
            "_view_module_version": "1.2.0",
            "_view_name": "StyleView",
            "description_width": ""
          }
        },
        "f2a66c71d6fc4a8a83b73bbb5a488ac6": {
          "model_module": "@jupyter-widgets/controls",
          "model_name": "HBoxModel",
          "state": {
            "_dom_classes": [],
            "_model_module": "@jupyter-widgets/controls",
            "_model_module_version": "1.5.0",
            "_model_name": "HBoxModel",
            "_view_count": null,
            "_view_module": "@jupyter-widgets/controls",
            "_view_module_version": "1.5.0",
            "_view_name": "HBoxView",
            "box_style": "",
            "children": [
              "IPY_MODEL_001249216aa14fb6b7fe1497f6604d47",
              "IPY_MODEL_1a1634f564d042adbcbdcdcfeb5e5b7f"
            ],
            "layout": "IPY_MODEL_23e30b96d3c74eacad169343597ec331"
          }
        },
        "001249216aa14fb6b7fe1497f6604d47": {
          "model_module": "@jupyter-widgets/controls",
          "model_name": "FloatProgressModel",
          "state": {
            "_dom_classes": [],
            "_model_module": "@jupyter-widgets/controls",
            "_model_module_version": "1.5.0",
            "_model_name": "FloatProgressModel",
            "_view_count": null,
            "_view_module": "@jupyter-widgets/controls",
            "_view_module_version": "1.5.0",
            "_view_name": "ProgressView",
            "bar_style": "success",
            "description": "100%",
            "description_tooltip": null,
            "layout": "IPY_MODEL_d73cbb3b269840cbb7448331be5d166c",
            "max": 400,
            "min": 0,
            "orientation": "horizontal",
            "style": "IPY_MODEL_f8b149c15f154a68bdc858d280943d32",
            "value": 400
          }
        },
        "1a1634f564d042adbcbdcdcfeb5e5b7f": {
          "model_module": "@jupyter-widgets/controls",
          "model_name": "HTMLModel",
          "state": {
            "_dom_classes": [],
            "_model_module": "@jupyter-widgets/controls",
            "_model_module_version": "1.5.0",
            "_model_name": "HTMLModel",
            "_view_count": null,
            "_view_module": "@jupyter-widgets/controls",
            "_view_module_version": "1.5.0",
            "_view_name": "HTMLView",
            "description": "",
            "description_tooltip": null,
            "layout": "IPY_MODEL_0b9b6b45cc1e4226b3959d3a906f5d12",
            "placeholder": "​",
            "style": "IPY_MODEL_485ba5f277d84f6a9839b34fa638eaea",
            "value": " 400/400 [5:22:59&lt;00:00, 48.45s/it]"
          }
        },
        "23e30b96d3c74eacad169343597ec331": {
          "model_module": "@jupyter-widgets/base",
          "model_name": "LayoutModel",
          "state": {
            "_model_module": "@jupyter-widgets/base",
            "_model_module_version": "1.2.0",
            "_model_name": "LayoutModel",
            "_view_count": null,
            "_view_module": "@jupyter-widgets/base",
            "_view_module_version": "1.2.0",
            "_view_name": "LayoutView",
            "align_content": null,
            "align_items": null,
            "align_self": null,
            "border": null,
            "bottom": null,
            "display": null,
            "flex": null,
            "flex_flow": null,
            "grid_area": null,
            "grid_auto_columns": null,
            "grid_auto_flow": null,
            "grid_auto_rows": null,
            "grid_column": null,
            "grid_gap": null,
            "grid_row": null,
            "grid_template_areas": null,
            "grid_template_columns": null,
            "grid_template_rows": null,
            "height": null,
            "justify_content": null,
            "justify_items": null,
            "left": null,
            "margin": null,
            "max_height": null,
            "max_width": null,
            "min_height": null,
            "min_width": null,
            "object_fit": null,
            "object_position": null,
            "order": null,
            "overflow": null,
            "overflow_x": null,
            "overflow_y": null,
            "padding": null,
            "right": null,
            "top": null,
            "visibility": null,
            "width": null
          }
        },
        "d73cbb3b269840cbb7448331be5d166c": {
          "model_module": "@jupyter-widgets/base",
          "model_name": "LayoutModel",
          "state": {
            "_model_module": "@jupyter-widgets/base",
            "_model_module_version": "1.2.0",
            "_model_name": "LayoutModel",
            "_view_count": null,
            "_view_module": "@jupyter-widgets/base",
            "_view_module_version": "1.2.0",
            "_view_name": "LayoutView",
            "align_content": null,
            "align_items": null,
            "align_self": null,
            "border": null,
            "bottom": null,
            "display": null,
            "flex": null,
            "flex_flow": null,
            "grid_area": null,
            "grid_auto_columns": null,
            "grid_auto_flow": null,
            "grid_auto_rows": null,
            "grid_column": null,
            "grid_gap": null,
            "grid_row": null,
            "grid_template_areas": null,
            "grid_template_columns": null,
            "grid_template_rows": null,
            "height": null,
            "justify_content": null,
            "justify_items": null,
            "left": null,
            "margin": null,
            "max_height": null,
            "max_width": null,
            "min_height": null,
            "min_width": null,
            "object_fit": null,
            "object_position": null,
            "order": null,
            "overflow": null,
            "overflow_x": null,
            "overflow_y": null,
            "padding": null,
            "right": null,
            "top": null,
            "visibility": null,
            "width": null
          }
        },
        "f8b149c15f154a68bdc858d280943d32": {
          "model_module": "@jupyter-widgets/controls",
          "model_name": "ProgressStyleModel",
          "state": {
            "_model_module": "@jupyter-widgets/controls",
            "_model_module_version": "1.5.0",
            "_model_name": "ProgressStyleModel",
            "_view_count": null,
            "_view_module": "@jupyter-widgets/base",
            "_view_module_version": "1.2.0",
            "_view_name": "StyleView",
            "bar_color": null,
            "description_width": "initial"
          }
        },
        "0b9b6b45cc1e4226b3959d3a906f5d12": {
          "model_module": "@jupyter-widgets/base",
          "model_name": "LayoutModel",
          "state": {
            "_model_module": "@jupyter-widgets/base",
            "_model_module_version": "1.2.0",
            "_model_name": "LayoutModel",
            "_view_count": null,
            "_view_module": "@jupyter-widgets/base",
            "_view_module_version": "1.2.0",
            "_view_name": "LayoutView",
            "align_content": null,
            "align_items": null,
            "align_self": null,
            "border": null,
            "bottom": null,
            "display": null,
            "flex": null,
            "flex_flow": null,
            "grid_area": null,
            "grid_auto_columns": null,
            "grid_auto_flow": null,
            "grid_auto_rows": null,
            "grid_column": null,
            "grid_gap": null,
            "grid_row": null,
            "grid_template_areas": null,
            "grid_template_columns": null,
            "grid_template_rows": null,
            "height": null,
            "justify_content": null,
            "justify_items": null,
            "left": null,
            "margin": null,
            "max_height": null,
            "max_width": null,
            "min_height": null,
            "min_width": null,
            "object_fit": null,
            "object_position": null,
            "order": null,
            "overflow": null,
            "overflow_x": null,
            "overflow_y": null,
            "padding": null,
            "right": null,
            "top": null,
            "visibility": null,
            "width": null
          }
        },
        "485ba5f277d84f6a9839b34fa638eaea": {
          "model_module": "@jupyter-widgets/controls",
          "model_name": "DescriptionStyleModel",
          "state": {
            "_model_module": "@jupyter-widgets/controls",
            "_model_module_version": "1.5.0",
            "_model_name": "DescriptionStyleModel",
            "_view_count": null,
            "_view_module": "@jupyter-widgets/base",
            "_view_module_version": "1.2.0",
            "_view_name": "StyleView",
            "description_width": ""
          }
        },
        "6204af8787c84bb4938f89f4f490da60": {
          "model_module": "@jupyter-widgets/controls",
          "model_name": "HBoxModel",
          "state": {
            "_dom_classes": [],
            "_model_module": "@jupyter-widgets/controls",
            "_model_module_version": "1.5.0",
            "_model_name": "HBoxModel",
            "_view_count": null,
            "_view_module": "@jupyter-widgets/controls",
            "_view_module_version": "1.5.0",
            "_view_name": "HBoxView",
            "box_style": "",
            "children": [
              "IPY_MODEL_959144adf11f4817ad3b7d394782651d",
              "IPY_MODEL_44c5cdf980e64ea299f205321f1735e4"
            ],
            "layout": "IPY_MODEL_59d06f2080eb45009112f6bdee3ad50f"
          }
        },
        "959144adf11f4817ad3b7d394782651d": {
          "model_module": "@jupyter-widgets/controls",
          "model_name": "FloatProgressModel",
          "state": {
            "_dom_classes": [],
            "_model_module": "@jupyter-widgets/controls",
            "_model_module_version": "1.5.0",
            "_model_name": "FloatProgressModel",
            "_view_count": null,
            "_view_module": "@jupyter-widgets/controls",
            "_view_module_version": "1.5.0",
            "_view_name": "ProgressView",
            "bar_style": "success",
            "description": "100%",
            "description_tooltip": null,
            "layout": "IPY_MODEL_2e335f3fa66d4be0b801ac4237499391",
            "max": 400,
            "min": 0,
            "orientation": "horizontal",
            "style": "IPY_MODEL_d943acbfe1e34d7e9e07fde9cf810408",
            "value": 400
          }
        },
        "44c5cdf980e64ea299f205321f1735e4": {
          "model_module": "@jupyter-widgets/controls",
          "model_name": "HTMLModel",
          "state": {
            "_dom_classes": [],
            "_model_module": "@jupyter-widgets/controls",
            "_model_module_version": "1.5.0",
            "_model_name": "HTMLModel",
            "_view_count": null,
            "_view_module": "@jupyter-widgets/controls",
            "_view_module_version": "1.5.0",
            "_view_name": "HTMLView",
            "description": "",
            "description_tooltip": null,
            "layout": "IPY_MODEL_105131a7b3154d8fbc78ecd0c103c380",
            "placeholder": "​",
            "style": "IPY_MODEL_39a7ba0422494c68884b1fc2b2bf8b81",
            "value": " 400/400 [1:38:10&lt;00:00, 14.73s/it]"
          }
        },
        "59d06f2080eb45009112f6bdee3ad50f": {
          "model_module": "@jupyter-widgets/base",
          "model_name": "LayoutModel",
          "state": {
            "_model_module": "@jupyter-widgets/base",
            "_model_module_version": "1.2.0",
            "_model_name": "LayoutModel",
            "_view_count": null,
            "_view_module": "@jupyter-widgets/base",
            "_view_module_version": "1.2.0",
            "_view_name": "LayoutView",
            "align_content": null,
            "align_items": null,
            "align_self": null,
            "border": null,
            "bottom": null,
            "display": null,
            "flex": null,
            "flex_flow": null,
            "grid_area": null,
            "grid_auto_columns": null,
            "grid_auto_flow": null,
            "grid_auto_rows": null,
            "grid_column": null,
            "grid_gap": null,
            "grid_row": null,
            "grid_template_areas": null,
            "grid_template_columns": null,
            "grid_template_rows": null,
            "height": null,
            "justify_content": null,
            "justify_items": null,
            "left": null,
            "margin": null,
            "max_height": null,
            "max_width": null,
            "min_height": null,
            "min_width": null,
            "object_fit": null,
            "object_position": null,
            "order": null,
            "overflow": null,
            "overflow_x": null,
            "overflow_y": null,
            "padding": null,
            "right": null,
            "top": null,
            "visibility": null,
            "width": null
          }
        },
        "2e335f3fa66d4be0b801ac4237499391": {
          "model_module": "@jupyter-widgets/base",
          "model_name": "LayoutModel",
          "state": {
            "_model_module": "@jupyter-widgets/base",
            "_model_module_version": "1.2.0",
            "_model_name": "LayoutModel",
            "_view_count": null,
            "_view_module": "@jupyter-widgets/base",
            "_view_module_version": "1.2.0",
            "_view_name": "LayoutView",
            "align_content": null,
            "align_items": null,
            "align_self": null,
            "border": null,
            "bottom": null,
            "display": null,
            "flex": null,
            "flex_flow": null,
            "grid_area": null,
            "grid_auto_columns": null,
            "grid_auto_flow": null,
            "grid_auto_rows": null,
            "grid_column": null,
            "grid_gap": null,
            "grid_row": null,
            "grid_template_areas": null,
            "grid_template_columns": null,
            "grid_template_rows": null,
            "height": null,
            "justify_content": null,
            "justify_items": null,
            "left": null,
            "margin": null,
            "max_height": null,
            "max_width": null,
            "min_height": null,
            "min_width": null,
            "object_fit": null,
            "object_position": null,
            "order": null,
            "overflow": null,
            "overflow_x": null,
            "overflow_y": null,
            "padding": null,
            "right": null,
            "top": null,
            "visibility": null,
            "width": null
          }
        },
        "d943acbfe1e34d7e9e07fde9cf810408": {
          "model_module": "@jupyter-widgets/controls",
          "model_name": "ProgressStyleModel",
          "state": {
            "_model_module": "@jupyter-widgets/controls",
            "_model_module_version": "1.5.0",
            "_model_name": "ProgressStyleModel",
            "_view_count": null,
            "_view_module": "@jupyter-widgets/base",
            "_view_module_version": "1.2.0",
            "_view_name": "StyleView",
            "bar_color": null,
            "description_width": "initial"
          }
        },
        "105131a7b3154d8fbc78ecd0c103c380": {
          "model_module": "@jupyter-widgets/base",
          "model_name": "LayoutModel",
          "state": {
            "_model_module": "@jupyter-widgets/base",
            "_model_module_version": "1.2.0",
            "_model_name": "LayoutModel",
            "_view_count": null,
            "_view_module": "@jupyter-widgets/base",
            "_view_module_version": "1.2.0",
            "_view_name": "LayoutView",
            "align_content": null,
            "align_items": null,
            "align_self": null,
            "border": null,
            "bottom": null,
            "display": null,
            "flex": null,
            "flex_flow": null,
            "grid_area": null,
            "grid_auto_columns": null,
            "grid_auto_flow": null,
            "grid_auto_rows": null,
            "grid_column": null,
            "grid_gap": null,
            "grid_row": null,
            "grid_template_areas": null,
            "grid_template_columns": null,
            "grid_template_rows": null,
            "height": null,
            "justify_content": null,
            "justify_items": null,
            "left": null,
            "margin": null,
            "max_height": null,
            "max_width": null,
            "min_height": null,
            "min_width": null,
            "object_fit": null,
            "object_position": null,
            "order": null,
            "overflow": null,
            "overflow_x": null,
            "overflow_y": null,
            "padding": null,
            "right": null,
            "top": null,
            "visibility": null,
            "width": null
          }
        },
        "39a7ba0422494c68884b1fc2b2bf8b81": {
          "model_module": "@jupyter-widgets/controls",
          "model_name": "DescriptionStyleModel",
          "state": {
            "_model_module": "@jupyter-widgets/controls",
            "_model_module_version": "1.5.0",
            "_model_name": "DescriptionStyleModel",
            "_view_count": null,
            "_view_module": "@jupyter-widgets/base",
            "_view_module_version": "1.2.0",
            "_view_name": "StyleView",
            "description_width": ""
          }
        },
        "e984deece44b495f96f52e4246f4e39b": {
          "model_module": "@jupyter-widgets/controls",
          "model_name": "HBoxModel",
          "state": {
            "_dom_classes": [],
            "_model_module": "@jupyter-widgets/controls",
            "_model_module_version": "1.5.0",
            "_model_name": "HBoxModel",
            "_view_count": null,
            "_view_module": "@jupyter-widgets/controls",
            "_view_module_version": "1.5.0",
            "_view_name": "HBoxView",
            "box_style": "",
            "children": [
              "IPY_MODEL_75cb20c2a4324c8685edc0b4cf48b9f6",
              "IPY_MODEL_a55f47c4f761498eb179c3f6f0d613aa"
            ],
            "layout": "IPY_MODEL_79edb3ceeb6e487792713451d5507fc5"
          }
        },
        "75cb20c2a4324c8685edc0b4cf48b9f6": {
          "model_module": "@jupyter-widgets/controls",
          "model_name": "FloatProgressModel",
          "state": {
            "_dom_classes": [],
            "_model_module": "@jupyter-widgets/controls",
            "_model_module_version": "1.5.0",
            "_model_name": "FloatProgressModel",
            "_view_count": null,
            "_view_module": "@jupyter-widgets/controls",
            "_view_module_version": "1.5.0",
            "_view_name": "ProgressView",
            "bar_style": "danger",
            "description": "  0%",
            "description_tooltip": null,
            "layout": "IPY_MODEL_d400a44e6c5c465bb1f17fe3a98c4b16",
            "max": 400,
            "min": 0,
            "orientation": "horizontal",
            "style": "IPY_MODEL_b7b3cab8fd1e47d5ae8f56d077a8e768",
            "value": 0
          }
        },
        "a55f47c4f761498eb179c3f6f0d613aa": {
          "model_module": "@jupyter-widgets/controls",
          "model_name": "HTMLModel",
          "state": {
            "_dom_classes": [],
            "_model_module": "@jupyter-widgets/controls",
            "_model_module_version": "1.5.0",
            "_model_name": "HTMLModel",
            "_view_count": null,
            "_view_module": "@jupyter-widgets/controls",
            "_view_module_version": "1.5.0",
            "_view_name": "HTMLView",
            "description": "",
            "description_tooltip": null,
            "layout": "IPY_MODEL_c8043af67cdf40dfb845b2e8f5180ee6",
            "placeholder": "​",
            "style": "IPY_MODEL_0537dea4aad149589bb3870392aa4ae8",
            "value": " 0/400 [00:05&lt;?, ?it/s]"
          }
        },
        "79edb3ceeb6e487792713451d5507fc5": {
          "model_module": "@jupyter-widgets/base",
          "model_name": "LayoutModel",
          "state": {
            "_model_module": "@jupyter-widgets/base",
            "_model_module_version": "1.2.0",
            "_model_name": "LayoutModel",
            "_view_count": null,
            "_view_module": "@jupyter-widgets/base",
            "_view_module_version": "1.2.0",
            "_view_name": "LayoutView",
            "align_content": null,
            "align_items": null,
            "align_self": null,
            "border": null,
            "bottom": null,
            "display": null,
            "flex": null,
            "flex_flow": null,
            "grid_area": null,
            "grid_auto_columns": null,
            "grid_auto_flow": null,
            "grid_auto_rows": null,
            "grid_column": null,
            "grid_gap": null,
            "grid_row": null,
            "grid_template_areas": null,
            "grid_template_columns": null,
            "grid_template_rows": null,
            "height": null,
            "justify_content": null,
            "justify_items": null,
            "left": null,
            "margin": null,
            "max_height": null,
            "max_width": null,
            "min_height": null,
            "min_width": null,
            "object_fit": null,
            "object_position": null,
            "order": null,
            "overflow": null,
            "overflow_x": null,
            "overflow_y": null,
            "padding": null,
            "right": null,
            "top": null,
            "visibility": null,
            "width": null
          }
        },
        "d400a44e6c5c465bb1f17fe3a98c4b16": {
          "model_module": "@jupyter-widgets/base",
          "model_name": "LayoutModel",
          "state": {
            "_model_module": "@jupyter-widgets/base",
            "_model_module_version": "1.2.0",
            "_model_name": "LayoutModel",
            "_view_count": null,
            "_view_module": "@jupyter-widgets/base",
            "_view_module_version": "1.2.0",
            "_view_name": "LayoutView",
            "align_content": null,
            "align_items": null,
            "align_self": null,
            "border": null,
            "bottom": null,
            "display": null,
            "flex": null,
            "flex_flow": null,
            "grid_area": null,
            "grid_auto_columns": null,
            "grid_auto_flow": null,
            "grid_auto_rows": null,
            "grid_column": null,
            "grid_gap": null,
            "grid_row": null,
            "grid_template_areas": null,
            "grid_template_columns": null,
            "grid_template_rows": null,
            "height": null,
            "justify_content": null,
            "justify_items": null,
            "left": null,
            "margin": null,
            "max_height": null,
            "max_width": null,
            "min_height": null,
            "min_width": null,
            "object_fit": null,
            "object_position": null,
            "order": null,
            "overflow": null,
            "overflow_x": null,
            "overflow_y": null,
            "padding": null,
            "right": null,
            "top": null,
            "visibility": null,
            "width": null
          }
        },
        "b7b3cab8fd1e47d5ae8f56d077a8e768": {
          "model_module": "@jupyter-widgets/controls",
          "model_name": "ProgressStyleModel",
          "state": {
            "_model_module": "@jupyter-widgets/controls",
            "_model_module_version": "1.5.0",
            "_model_name": "ProgressStyleModel",
            "_view_count": null,
            "_view_module": "@jupyter-widgets/base",
            "_view_module_version": "1.2.0",
            "_view_name": "StyleView",
            "bar_color": null,
            "description_width": "initial"
          }
        },
        "c8043af67cdf40dfb845b2e8f5180ee6": {
          "model_module": "@jupyter-widgets/base",
          "model_name": "LayoutModel",
          "state": {
            "_model_module": "@jupyter-widgets/base",
            "_model_module_version": "1.2.0",
            "_model_name": "LayoutModel",
            "_view_count": null,
            "_view_module": "@jupyter-widgets/base",
            "_view_module_version": "1.2.0",
            "_view_name": "LayoutView",
            "align_content": null,
            "align_items": null,
            "align_self": null,
            "border": null,
            "bottom": null,
            "display": null,
            "flex": null,
            "flex_flow": null,
            "grid_area": null,
            "grid_auto_columns": null,
            "grid_auto_flow": null,
            "grid_auto_rows": null,
            "grid_column": null,
            "grid_gap": null,
            "grid_row": null,
            "grid_template_areas": null,
            "grid_template_columns": null,
            "grid_template_rows": null,
            "height": null,
            "justify_content": null,
            "justify_items": null,
            "left": null,
            "margin": null,
            "max_height": null,
            "max_width": null,
            "min_height": null,
            "min_width": null,
            "object_fit": null,
            "object_position": null,
            "order": null,
            "overflow": null,
            "overflow_x": null,
            "overflow_y": null,
            "padding": null,
            "right": null,
            "top": null,
            "visibility": null,
            "width": null
          }
        },
        "0537dea4aad149589bb3870392aa4ae8": {
          "model_module": "@jupyter-widgets/controls",
          "model_name": "DescriptionStyleModel",
          "state": {
            "_model_module": "@jupyter-widgets/controls",
            "_model_module_version": "1.5.0",
            "_model_name": "DescriptionStyleModel",
            "_view_count": null,
            "_view_module": "@jupyter-widgets/base",
            "_view_module_version": "1.2.0",
            "_view_name": "StyleView",
            "description_width": ""
          }
        },
        "9185c548867e4415830b83689b20d922": {
          "model_module": "@jupyter-widgets/controls",
          "model_name": "HBoxModel",
          "state": {
            "_dom_classes": [],
            "_model_module": "@jupyter-widgets/controls",
            "_model_module_version": "1.5.0",
            "_model_name": "HBoxModel",
            "_view_count": null,
            "_view_module": "@jupyter-widgets/controls",
            "_view_module_version": "1.5.0",
            "_view_name": "HBoxView",
            "box_style": "",
            "children": [
              "IPY_MODEL_f365bed1417e4725a6e8abcdb2549e16",
              "IPY_MODEL_7ab893a58bb840d18e8edcfc61f18c8c"
            ],
            "layout": "IPY_MODEL_31254754a3ba49789b038909c963ae21"
          }
        },
        "f365bed1417e4725a6e8abcdb2549e16": {
          "model_module": "@jupyter-widgets/controls",
          "model_name": "FloatProgressModel",
          "state": {
            "_dom_classes": [],
            "_model_module": "@jupyter-widgets/controls",
            "_model_module_version": "1.5.0",
            "_model_name": "FloatProgressModel",
            "_view_count": null,
            "_view_module": "@jupyter-widgets/controls",
            "_view_module_version": "1.5.0",
            "_view_name": "ProgressView",
            "bar_style": "success",
            "description": "100%",
            "description_tooltip": null,
            "layout": "IPY_MODEL_8af3023cad9c43b595275fbc848c48d1",
            "max": 400,
            "min": 0,
            "orientation": "horizontal",
            "style": "IPY_MODEL_5ee8a80aac24472fa3e0190fc956c3bf",
            "value": 400
          }
        },
        "7ab893a58bb840d18e8edcfc61f18c8c": {
          "model_module": "@jupyter-widgets/controls",
          "model_name": "HTMLModel",
          "state": {
            "_dom_classes": [],
            "_model_module": "@jupyter-widgets/controls",
            "_model_module_version": "1.5.0",
            "_model_name": "HTMLModel",
            "_view_count": null,
            "_view_module": "@jupyter-widgets/controls",
            "_view_module_version": "1.5.0",
            "_view_name": "HTMLView",
            "description": "",
            "description_tooltip": null,
            "layout": "IPY_MODEL_9efc404c8c85438baecbfa97f5da5614",
            "placeholder": "​",
            "style": "IPY_MODEL_e60e6379e02247e1a86bdec1bba06b48",
            "value": " 400/400 [2:19:06&lt;00:00, 20.87s/it]"
          }
        },
        "31254754a3ba49789b038909c963ae21": {
          "model_module": "@jupyter-widgets/base",
          "model_name": "LayoutModel",
          "state": {
            "_model_module": "@jupyter-widgets/base",
            "_model_module_version": "1.2.0",
            "_model_name": "LayoutModel",
            "_view_count": null,
            "_view_module": "@jupyter-widgets/base",
            "_view_module_version": "1.2.0",
            "_view_name": "LayoutView",
            "align_content": null,
            "align_items": null,
            "align_self": null,
            "border": null,
            "bottom": null,
            "display": null,
            "flex": null,
            "flex_flow": null,
            "grid_area": null,
            "grid_auto_columns": null,
            "grid_auto_flow": null,
            "grid_auto_rows": null,
            "grid_column": null,
            "grid_gap": null,
            "grid_row": null,
            "grid_template_areas": null,
            "grid_template_columns": null,
            "grid_template_rows": null,
            "height": null,
            "justify_content": null,
            "justify_items": null,
            "left": null,
            "margin": null,
            "max_height": null,
            "max_width": null,
            "min_height": null,
            "min_width": null,
            "object_fit": null,
            "object_position": null,
            "order": null,
            "overflow": null,
            "overflow_x": null,
            "overflow_y": null,
            "padding": null,
            "right": null,
            "top": null,
            "visibility": null,
            "width": null
          }
        },
        "8af3023cad9c43b595275fbc848c48d1": {
          "model_module": "@jupyter-widgets/base",
          "model_name": "LayoutModel",
          "state": {
            "_model_module": "@jupyter-widgets/base",
            "_model_module_version": "1.2.0",
            "_model_name": "LayoutModel",
            "_view_count": null,
            "_view_module": "@jupyter-widgets/base",
            "_view_module_version": "1.2.0",
            "_view_name": "LayoutView",
            "align_content": null,
            "align_items": null,
            "align_self": null,
            "border": null,
            "bottom": null,
            "display": null,
            "flex": null,
            "flex_flow": null,
            "grid_area": null,
            "grid_auto_columns": null,
            "grid_auto_flow": null,
            "grid_auto_rows": null,
            "grid_column": null,
            "grid_gap": null,
            "grid_row": null,
            "grid_template_areas": null,
            "grid_template_columns": null,
            "grid_template_rows": null,
            "height": null,
            "justify_content": null,
            "justify_items": null,
            "left": null,
            "margin": null,
            "max_height": null,
            "max_width": null,
            "min_height": null,
            "min_width": null,
            "object_fit": null,
            "object_position": null,
            "order": null,
            "overflow": null,
            "overflow_x": null,
            "overflow_y": null,
            "padding": null,
            "right": null,
            "top": null,
            "visibility": null,
            "width": null
          }
        },
        "5ee8a80aac24472fa3e0190fc956c3bf": {
          "model_module": "@jupyter-widgets/controls",
          "model_name": "ProgressStyleModel",
          "state": {
            "_model_module": "@jupyter-widgets/controls",
            "_model_module_version": "1.5.0",
            "_model_name": "ProgressStyleModel",
            "_view_count": null,
            "_view_module": "@jupyter-widgets/base",
            "_view_module_version": "1.2.0",
            "_view_name": "StyleView",
            "bar_color": null,
            "description_width": "initial"
          }
        },
        "9efc404c8c85438baecbfa97f5da5614": {
          "model_module": "@jupyter-widgets/base",
          "model_name": "LayoutModel",
          "state": {
            "_model_module": "@jupyter-widgets/base",
            "_model_module_version": "1.2.0",
            "_model_name": "LayoutModel",
            "_view_count": null,
            "_view_module": "@jupyter-widgets/base",
            "_view_module_version": "1.2.0",
            "_view_name": "LayoutView",
            "align_content": null,
            "align_items": null,
            "align_self": null,
            "border": null,
            "bottom": null,
            "display": null,
            "flex": null,
            "flex_flow": null,
            "grid_area": null,
            "grid_auto_columns": null,
            "grid_auto_flow": null,
            "grid_auto_rows": null,
            "grid_column": null,
            "grid_gap": null,
            "grid_row": null,
            "grid_template_areas": null,
            "grid_template_columns": null,
            "grid_template_rows": null,
            "height": null,
            "justify_content": null,
            "justify_items": null,
            "left": null,
            "margin": null,
            "max_height": null,
            "max_width": null,
            "min_height": null,
            "min_width": null,
            "object_fit": null,
            "object_position": null,
            "order": null,
            "overflow": null,
            "overflow_x": null,
            "overflow_y": null,
            "padding": null,
            "right": null,
            "top": null,
            "visibility": null,
            "width": null
          }
        },
        "e60e6379e02247e1a86bdec1bba06b48": {
          "model_module": "@jupyter-widgets/controls",
          "model_name": "DescriptionStyleModel",
          "state": {
            "_model_module": "@jupyter-widgets/controls",
            "_model_module_version": "1.5.0",
            "_model_name": "DescriptionStyleModel",
            "_view_count": null,
            "_view_module": "@jupyter-widgets/base",
            "_view_module_version": "1.2.0",
            "_view_name": "StyleView",
            "description_width": ""
          }
        }
      }
    }
  },
  "cells": [
    {
      "cell_type": "code",
      "metadata": {
        "id": "UHMROJfFnAzA",
        "outputId": "05408526-e791-475c-87a0-1c7dea2143e0",
        "colab": {
          "base_uri": "https://localhost:8080/",
          "height": 36
        }
      },
      "source": [
        "import os\n",
        "os.getcwd()"
      ],
      "execution_count": null,
      "outputs": [
        {
          "output_type": "execute_result",
          "data": {
            "application/vnd.google.colaboratory.intrinsic+json": {
              "type": "string"
            },
            "text/plain": [
              "'/content'"
            ]
          },
          "metadata": {
            "tags": []
          },
          "execution_count": 1
        }
      ]
    },
    {
      "cell_type": "code",
      "metadata": {
        "id": "ruPZ8Q61nE0b",
        "outputId": "19eaf901-cdb2-4d2f-bcf5-a06bf501c530",
        "colab": {
          "base_uri": "https://localhost:8080/"
        }
      },
      "source": [
        "from google.colab import drive\n",
        "drive.mount('/content/gdrive')"
      ],
      "execution_count": null,
      "outputs": [
        {
          "output_type": "stream",
          "text": [
            "Mounted at /content/gdrive\n"
          ],
          "name": "stdout"
        }
      ]
    },
    {
      "cell_type": "code",
      "metadata": {
        "id": "LFeyVk8cnHaD",
        "outputId": "8c143fbc-c917-421c-a1dc-6696e20cc6c1",
        "colab": {
          "base_uri": "https://localhost:8080/"
        }
      },
      "source": [
        "!ln -s /content/gdrive/My\\ Drive/ /mydrive\n",
        "\n",
        "!cp /mydrive/Deepfake/train_sample_videos.zip  ./\n",
        "!cp /mydrive/Deepfake/test_videos.zip  ./\n",
        "\n",
        "!unzip ./train_sample_videos.zip -d ./train_videos/\n",
        "!unzip ./test_videos.zip -d ./test_videos/"
      ],
      "execution_count": null,
      "outputs": [
        {
          "output_type": "stream",
          "text": [
            "Archive:  ./train_sample_videos.zip\n",
            "  inflating: ./train_videos/aagfhgtpmv.mp4  \n",
            "  inflating: ./train_videos/aapnvogymq.mp4  \n",
            "  inflating: ./train_videos/abarnvbtwb.mp4  \n",
            "  inflating: ./train_videos/abofeumbvv.mp4  \n",
            "  inflating: ./train_videos/abqwwspghj.mp4  \n",
            "  inflating: ./train_videos/acifjvzvpm.mp4  \n",
            "  inflating: ./train_videos/acqfdwsrhi.mp4  \n",
            "  inflating: ./train_videos/acxnxvbsxk.mp4  \n",
            "  inflating: ./train_videos/acxwigylke.mp4  \n",
            "  inflating: ./train_videos/aczrgyricp.mp4  \n",
            "  inflating: ./train_videos/adhsbajydo.mp4  \n",
            "  inflating: ./train_videos/adohikbdaz.mp4  \n",
            "  inflating: ./train_videos/adylbeequz.mp4  \n",
            "  inflating: ./train_videos/aelfnikyqj.mp4  \n",
            "  inflating: ./train_videos/aelzhcnwgf.mp4  \n",
            "  inflating: ./train_videos/aettqgevhz.mp4  \n",
            "  inflating: ./train_videos/aevrfsexku.mp4  \n",
            "  inflating: ./train_videos/afoovlsmtx.mp4  \n",
            "  inflating: ./train_videos/agdkmztvby.mp4  \n",
            "  inflating: ./train_videos/agqphdxmwt.mp4  \n",
            "  inflating: ./train_videos/agrmhtjdlk.mp4  \n",
            "  inflating: ./train_videos/ahbweevwpv.mp4  \n",
            "  inflating: ./train_videos/ahdbuwqxit.mp4  \n",
            "  inflating: ./train_videos/ahfazfbntc.mp4  \n",
            "  inflating: ./train_videos/ahqqqilsxt.mp4  \n",
            "  inflating: ./train_videos/aipfdnwpoo.mp4  \n",
            "  inflating: ./train_videos/ajqslcypsw.mp4  \n",
            "  inflating: ./train_videos/ajwpjhrbcv.mp4  \n",
            "  inflating: ./train_videos/aklqzsddfl.mp4  \n",
            "  inflating: ./train_videos/aknbdpmgua.mp4  \n",
            "  inflating: ./train_videos/aknmpoonls.mp4  \n",
            "  inflating: ./train_videos/akvmwkdyuv.mp4  \n",
            "  inflating: ./train_videos/akxoopqjqz.mp4  \n",
            "  inflating: ./train_videos/akzbnazxtz.mp4  \n",
            "  inflating: ./train_videos/aladcziidp.mp4  \n",
            "  inflating: ./train_videos/alaijyygdv.mp4  \n",
            "  inflating: ./train_videos/alninxcyhg.mp4  \n",
            "  inflating: ./train_videos/altziddtxi.mp4  \n",
            "  inflating: ./train_videos/alvgwypubw.mp4  \n",
            "  inflating: ./train_videos/amaivqofda.mp4  \n",
            "  inflating: ./train_videos/amowujxmzc.mp4  \n",
            "  inflating: ./train_videos/andaxzscny.mp4  \n",
            "  inflating: ./train_videos/aneclqfpbt.mp4  \n",
            "  inflating: ./train_videos/anpuvshzoo.mp4  \n",
            "  inflating: ./train_videos/aorjvbyxhw.mp4  \n",
            "  inflating: ./train_videos/apatcsqejh.mp4  \n",
            "  inflating: ./train_videos/apgjqzkoma.mp4  \n",
            "  inflating: ./train_videos/apogckdfrz.mp4  \n",
            "  inflating: ./train_videos/aqpnvjhuzw.mp4  \n",
            "  inflating: ./train_videos/arkroixhey.mp4  \n",
            "  inflating: ./train_videos/arlmiizoob.mp4  \n",
            "  inflating: ./train_videos/arrhsnjqku.mp4  \n",
            "  inflating: ./train_videos/asaxgevnnp.mp4  \n",
            "  inflating: ./train_videos/asdpeebotb.mp4  \n",
            "  inflating: ./train_videos/aslsvlvpth.mp4  \n",
            "  inflating: ./train_videos/asmpfjfzif.mp4  \n",
            "  inflating: ./train_videos/asvcrfdpnq.mp4  \n",
            "  inflating: ./train_videos/atkdltyyen.mp4  \n",
            "  inflating: ./train_videos/atvmxvwyns.mp4  \n",
            "  inflating: ./train_videos/atxvxouljq.mp4  \n",
            "  inflating: ./train_videos/atyntldecu.mp4  \n",
            "  inflating: ./train_videos/atzdznmder.mp4  \n",
            "  inflating: ./train_videos/aufmsmnoye.mp4  \n",
            "  inflating: ./train_videos/augtsuxpzc.mp4  \n",
            "  inflating: ./train_videos/avfitoutyn.mp4  \n",
            "  inflating: ./train_videos/avgiuextiz.mp4  \n",
            "  inflating: ./train_videos/avibnnhwhp.mp4  \n",
            "  inflating: ./train_videos/avmjormvsx.mp4  \n",
            "  inflating: ./train_videos/avnqydkqjj.mp4  \n",
            "  inflating: ./train_videos/avssvvsdhz.mp4  \n",
            "  inflating: ./train_videos/avtycwsgyb.mp4  \n",
            "  inflating: ./train_videos/avvdgsennp.mp4  \n",
            "  inflating: ./train_videos/avywawptfc.mp4  \n",
            "  inflating: ./train_videos/awhmfnnjih.mp4  \n",
            "  inflating: ./train_videos/awnwkrqibf.mp4  \n",
            "  inflating: ./train_videos/awukslzjra.mp4  \n",
            "  inflating: ./train_videos/axczxisdtb.mp4  \n",
            "  inflating: ./train_videos/axntxmycwd.mp4  \n",
            "  inflating: ./train_videos/axoygtekut.mp4  \n",
            "  inflating: ./train_videos/axwgcsyphv.mp4  \n",
            "  inflating: ./train_videos/axwovszumc.mp4  \n",
            "  inflating: ./train_videos/aybgughjxh.mp4  \n",
            "  inflating: ./train_videos/aybumesmpk.mp4  \n",
            "  inflating: ./train_videos/ayqvfdhslr.mp4  \n",
            "  inflating: ./train_videos/aytzyidmgs.mp4  \n",
            "  inflating: ./train_videos/azpuxunqyo.mp4  \n",
            "  inflating: ./train_videos/azsmewqghg.mp4  \n",
            "  inflating: ./train_videos/bahdpoesir.mp4  \n",
            "  inflating: ./train_videos/bbhpvrmbse.mp4  \n",
            "  inflating: ./train_videos/bbhtdfuqxq.mp4  \n",
            "  inflating: ./train_videos/bbvgxeczei.mp4  \n",
            "  inflating: ./train_videos/bchnbulevv.mp4  \n",
            "  inflating: ./train_videos/bctvsmddgq.mp4  \n",
            "  inflating: ./train_videos/bdbhekrrwo.mp4  \n",
            "  inflating: ./train_videos/bddjdhzfze.mp4  \n",
            "  inflating: ./train_videos/bdgipnyobr.mp4  \n",
            "  inflating: ./train_videos/bdnaqemxmr.mp4  \n",
            "  inflating: ./train_videos/bdxuhamuqx.mp4  \n",
            "  inflating: ./train_videos/beboztfcme.mp4  \n",
            "  inflating: ./train_videos/bejhvclboh.mp4  \n",
            "  inflating: ./train_videos/benmsfzfaz.mp4  \n",
            "  inflating: ./train_videos/beyebyhrph.mp4  \n",
            "  inflating: ./train_videos/bffwsjxghk.mp4  \n",
            "  inflating: ./train_videos/bgaogsjehq.mp4  \n",
            "  inflating: ./train_videos/bggsurpgpr.mp4  \n",
            "  inflating: ./train_videos/bghphrsfxf.mp4  \n",
            "  inflating: ./train_videos/bgmlwsoamc.mp4  \n",
            "  inflating: ./train_videos/bguwlyazau.mp4  \n",
            "  inflating: ./train_videos/bgvhtpzknn.mp4  \n",
            "  inflating: ./train_videos/bgwmmujlmc.mp4  \n",
            "  inflating: ./train_videos/bhaaboftbc.mp4  \n",
            "  inflating: ./train_videos/bhbdugnurr.mp4  \n",
            "  inflating: ./train_videos/bhpwpydzpo.mp4  \n",
            "  inflating: ./train_videos/bhsluedavd.mp4  \n",
            "  inflating: ./train_videos/bilnggbxgu.mp4  \n",
            "  inflating: ./train_videos/bjjbwsqjir.mp4  \n",
            "  inflating: ./train_videos/bjkmjilrxp.mp4  \n",
            "  inflating: ./train_videos/bjsmaqefoi.mp4  \n",
            "  inflating: ./train_videos/bkmdzhfzfh.mp4  \n",
            "  inflating: ./train_videos/bkvetcojbt.mp4  \n",
            "  inflating: ./train_videos/bkwxhglwct.mp4  \n",
            "  inflating: ./train_videos/blpchvmhxx.mp4  \n",
            "  inflating: ./train_videos/blzydqdfem.mp4  \n",
            "  inflating: ./train_videos/bmbbkwmxqj.mp4  \n",
            "  inflating: ./train_videos/bmehkyanbj.mp4  \n",
            "  inflating: ./train_videos/bmhvktyiwp.mp4  \n",
            "  inflating: ./train_videos/bmioepcpsx.mp4  \n",
            "  inflating: ./train_videos/bmjmjmbglm.mp4  \n",
            "  inflating: ./train_videos/bmjzrlszhi.mp4  \n",
            "  inflating: ./train_videos/bnbuonyoje.mp4  \n",
            "  inflating: ./train_videos/bndybcqhfr.mp4  \n",
            "  inflating: ./train_videos/bnjcdrfuov.mp4  \n",
            "  inflating: ./train_videos/bntlodcfeg.mp4  \n",
            "  inflating: ./train_videos/bofqajtwve.mp4  \n",
            "  inflating: ./train_videos/boovltmuwi.mp4  \n",
            "  inflating: ./train_videos/bopqhhalml.mp4  \n",
            "  inflating: ./train_videos/bourlmzsio.mp4  \n",
            "  inflating: ./train_videos/bpapbctoao.mp4  \n",
            "  inflating: ./train_videos/bpwzipqtxf.mp4  \n",
            "  inflating: ./train_videos/bpxckdzddv.mp4  \n",
            "  inflating: ./train_videos/bqdjzqhcft.mp4  \n",
            "  inflating: ./train_videos/bqeiblbxtl.mp4  \n",
            "  inflating: ./train_videos/bqhtpqmmqp.mp4  \n",
            "  inflating: ./train_videos/bqkdbcqjvb.mp4  \n",
            "  inflating: ./train_videos/bqnymlsayl.mp4  \n",
            "  inflating: ./train_videos/bqqpbzjgup.mp4  \n",
            "  inflating: ./train_videos/bqtuuwzdtr.mp4  \n",
            "  inflating: ./train_videos/brhalypwoo.mp4  \n",
            "  inflating: ./train_videos/brvqtabyxj.mp4  \n",
            "  inflating: ./train_videos/brwrlczjvi.mp4  \n",
            "  inflating: ./train_videos/bseamdrpbj.mp4  \n",
            "  inflating: ./train_videos/bsfmwclnqy.mp4  \n",
            "  inflating: ./train_videos/bsqgziaylx.mp4  \n",
            "  inflating: ./train_videos/btiysiskpf.mp4  \n",
            "  inflating: ./train_videos/btjlfpzbdu.mp4  \n",
            "  inflating: ./train_videos/btjwbtsgln.mp4  \n",
            "  inflating: ./train_videos/btmsngnqhv.mp4  \n",
            "  inflating: ./train_videos/btohlidmru.mp4  \n",
            "  inflating: ./train_videos/btugrnoton.mp4  \n",
            "  inflating: ./train_videos/btunxncpjh.mp4  \n",
            "  inflating: ./train_videos/btxlttbpkj.mp4  \n",
            "  inflating: ./train_videos/bulkxhhknf.mp4  \n",
            "  inflating: ./train_videos/bvgwelbeof.mp4  \n",
            "  inflating: ./train_videos/bvzjkezkms.mp4  \n",
            "  inflating: ./train_videos/bweezhfpzp.mp4  \n",
            "  inflating: ./train_videos/bwhlgysghg.mp4  \n",
            "  inflating: ./train_videos/bwipwzzxxu.mp4  \n",
            "  inflating: ./train_videos/bwuwstvsbw.mp4  \n",
            "  inflating: ./train_videos/bxzakyopjf.mp4  \n",
            "  inflating: ./train_videos/bydaidkpdp.mp4  \n",
            "  inflating: ./train_videos/byfenovjnf.mp4  \n",
            "  inflating: ./train_videos/byijojkdba.mp4  \n",
            "  inflating: ./train_videos/byofowlkki.mp4  \n",
            "  inflating: ./train_videos/byqzyxifza.mp4  \n",
            "  inflating: ./train_videos/byunigvnay.mp4  \n",
            "  inflating: ./train_videos/byyqectxqa.mp4  \n",
            "  inflating: ./train_videos/bzmdrafeex.mp4  \n",
            "  inflating: ./train_videos/bzythlfnhq.mp4  \n",
            "  inflating: ./train_videos/caifxvsozs.mp4  \n",
            "  inflating: ./train_videos/caqbrkogkb.mp4  \n",
            "  inflating: ./train_videos/cbbibzcoih.mp4  \n",
            "  inflating: ./train_videos/cbltdtxglo.mp4  \n",
            "  inflating: ./train_videos/ccfoszqabv.mp4  \n",
            "  inflating: ./train_videos/ccmonzqfrz.mp4  \n",
            "  inflating: ./train_videos/cdaxixbosp.mp4  \n",
            "  inflating: ./train_videos/cdbsbdymzd.mp4  \n",
            "  inflating: ./train_videos/cdphtzqrvp.mp4  \n",
            "  inflating: ./train_videos/cdyakrxkia.mp4  \n",
            "  inflating: ./train_videos/cepxysienc.mp4  \n",
            "  inflating: ./train_videos/cettndmvzl.mp4  \n",
            "  inflating: ./train_videos/ceymbecxnj.mp4  \n",
            "  inflating: ./train_videos/cferslmfwh.mp4  \n",
            "  inflating: ./train_videos/cffffbcywc.mp4  \n",
            "  inflating: ./train_videos/cfxkpiweqt.mp4  \n",
            "  inflating: ./train_videos/cfyduhpbps.mp4  \n",
            "  inflating: ./train_videos/cglxirfaey.mp4  \n",
            "  inflating: ./train_videos/cgvrgibpfo.mp4  \n",
            "  inflating: ./train_videos/chtapglbcj.mp4  \n",
            "  inflating: ./train_videos/chviwxsfhg.mp4  \n",
            "  inflating: ./train_videos/chzieimrwu.mp4  \n",
            "  inflating: ./train_videos/ciyoudyhly.mp4  \n",
            "  inflating: ./train_videos/cizlkenljw.mp4  \n",
            "  inflating: ./train_videos/ckbdwedgmc.mp4  \n",
            "  inflating: ./train_videos/ckjaibzfxa.mp4  \n",
            "  inflating: ./train_videos/ckkuyewywx.mp4  \n",
            "  inflating: ./train_videos/cknyxaqouy.mp4  \n",
            "  inflating: ./train_videos/cksanfsjhc.mp4  \n",
            "  inflating: ./train_videos/clihsshdkq.mp4  \n",
            "  inflating: ./train_videos/clrycekyst.mp4  \n",
            "  inflating: ./train_videos/cmbzllswnl.mp4  \n",
            "  inflating: ./train_videos/cmxcfkrjiv.mp4  \n",
            "  inflating: ./train_videos/cnilkgvfei.mp4  \n",
            "  inflating: ./train_videos/coadfnerlk.mp4  \n",
            "  inflating: ./train_videos/cobjrlugvp.mp4  \n",
            "  inflating: ./train_videos/covdcysmbi.mp4  \n",
            "  inflating: ./train_videos/cpjxareypw.mp4  \n",
            "  inflating: ./train_videos/cppdvdejkc.mp4  \n",
            "  inflating: ./train_videos/cprhtltsjp.mp4  \n",
            "  inflating: ./train_videos/cqfugiqupm.mp4  \n",
            "  inflating: ./train_videos/cqhngvpgyi.mp4  \n",
            "  inflating: ./train_videos/cqrskwiqng.mp4  \n",
            "  inflating: ./train_videos/crezycjqyk.mp4  \n",
            "  inflating: ./train_videos/crktehraph.mp4  \n",
            "  inflating: ./train_videos/crzfebnfgb.mp4  \n",
            "  inflating: ./train_videos/cthdnahrkh.mp4  \n",
            "  inflating: ./train_videos/ctpqeykqdp.mp4  \n",
            "  inflating: ./train_videos/cttqtsjvgn.mp4  \n",
            "  inflating: ./train_videos/ctzmavwror.mp4  \n",
            "  inflating: ./train_videos/curpwogllm.mp4  \n",
            "  inflating: ./train_videos/cuzrgrbvil.mp4  \n",
            "  inflating: ./train_videos/cvaksbpssm.mp4  \n",
            "  inflating: ./train_videos/cwbacdwrzo.mp4  \n",
            "  inflating: ./train_videos/cwqlvzefpg.mp4  \n",
            "  inflating: ./train_videos/cwrtyzndpx.mp4  \n",
            "  inflating: ./train_videos/cwsbspfzck.mp4  \n",
            "  inflating: ./train_videos/cwwandrkus.mp4  \n",
            "  inflating: ./train_videos/cxfujlvsuw.mp4  \n",
            "  inflating: ./train_videos/cxrfacemmq.mp4  \n",
            "  inflating: ./train_videos/cxttmymlbn.mp4  \n",
            "  inflating: ./train_videos/cyboodqqyr.mp4  \n",
            "  inflating: ./train_videos/cycacemkmt.mp4  \n",
            "  inflating: ./train_videos/cyclgfjdrv.mp4  \n",
            "  inflating: ./train_videos/cyxlcuyznd.mp4  \n",
            "  inflating: ./train_videos/czfunozvwp.mp4  \n",
            "  inflating: ./train_videos/czkdanyadc.mp4  \n",
            "  inflating: ./train_videos/czmqpxrqoh.mp4  \n",
            "  inflating: ./train_videos/dafhtipaml.mp4  \n",
            "  inflating: ./train_videos/dakiztgtnw.mp4  \n",
            "  inflating: ./train_videos/dakqwktlbi.mp4  \n",
            "  inflating: ./train_videos/dbhoxkblzx.mp4  \n",
            "  inflating: ./train_videos/dbhrpizyeq.mp4  \n",
            "  inflating: ./train_videos/dbnygxtwek.mp4  \n",
            "  inflating: ./train_videos/dboxtiehng.mp4  \n",
            "  inflating: ./train_videos/dbtbbhakdv.mp4  \n",
            "  inflating: ./train_videos/dbzcqmxzaj.mp4  \n",
            "  inflating: ./train_videos/dbzpcjntve.mp4  \n",
            "  inflating: ./train_videos/dcamvmuors.mp4  \n",
            "  inflating: ./train_videos/dcuiiorugd.mp4  \n",
            "  inflating: ./train_videos/ddepeddixj.mp4  \n",
            "  inflating: ./train_videos/ddhfabwpuz.mp4  \n",
            "  inflating: ./train_videos/ddjggcasdw.mp4  \n",
            "  inflating: ./train_videos/ddpvuimigj.mp4  \n",
            "  inflating: ./train_videos/ddqccgmtka.mp4  \n",
            "  inflating: ./train_videos/degpbqvcay.mp4  \n",
            "  inflating: ./train_videos/deywhkarol.mp4  \n",
            "  inflating: ./train_videos/deyyistcrd.mp4  \n",
            "  inflating: ./train_videos/dfbpceeaox.mp4  \n",
            "  inflating: ./train_videos/dgmevclvzy.mp4  \n",
            "  inflating: ./train_videos/dgxrqjdomn.mp4  \n",
            "  inflating: ./train_videos/dgzklxjmix.mp4  \n",
            "  inflating: ./train_videos/dhcndnuwta.mp4  \n",
            "  inflating: ./train_videos/dhcselezer.mp4  \n",
            "  inflating: ./train_videos/dhevettufk.mp4  \n",
            "  inflating: ./train_videos/dhjmzhrcav.mp4  \n",
            "  inflating: ./train_videos/dhkwmjxwrn.mp4  \n",
            "  inflating: ./train_videos/dhoqofwoxa.mp4  \n",
            "  inflating: ./train_videos/dhxctgyoqj.mp4  \n",
            "  inflating: ./train_videos/diomeixhrg.mp4  \n",
            "  inflating: ./train_videos/diopzaywor.mp4  \n",
            "  inflating: ./train_videos/diqraixiov.mp4  \n",
            "  inflating: ./train_videos/diuzrpqjli.mp4  \n",
            "  inflating: ./train_videos/djvtbgwdcc.mp4  \n",
            "  inflating: ./train_videos/djvutyvaio.mp4  \n",
            "  inflating: ./train_videos/djxdyjopjd.mp4  \n",
            "  inflating: ./train_videos/dkdwxmtpuo.mp4  \n",
            "  inflating: ./train_videos/dkhlttuvmx.mp4  \n",
            "  inflating: ./train_videos/dkrvorliqc.mp4  \n",
            "  inflating: ./train_videos/dkuayagnmc.mp4  \n",
            "  inflating: ./train_videos/dkwjwbwgey.mp4  \n",
            "  inflating: ./train_videos/dkzvdrzcnr.mp4  \n",
            "  inflating: ./train_videos/dlpoieqvfb.mp4  \n",
            "  inflating: ./train_videos/dlrsbscitn.mp4  \n",
            "  inflating: ./train_videos/dnexlwbcxq.mp4  \n",
            "  inflating: ./train_videos/dnhvalzvrt.mp4  \n",
            "  inflating: ./train_videos/dntkzzzcdh.mp4  \n",
            "  inflating: ./train_videos/dnyvfblxpm.mp4  \n",
            "  inflating: ./train_videos/doanjploai.mp4  \n",
            "  inflating: ./train_videos/dofusvhnib.mp4  \n",
            "  inflating: ./train_videos/dozyddhild.mp4  \n",
            "  inflating: ./train_videos/dptbnjnkdg.mp4  \n",
            "  inflating: ./train_videos/dptrzdvwpg.mp4  \n",
            "  inflating: ./train_videos/dqnyszdong.mp4  \n",
            "  inflating: ./train_videos/dqppxmoqdl.mp4  \n",
            "  inflating: ./train_videos/dqqtjcryjv.mp4  \n",
            "  inflating: ./train_videos/dqswpjoepo.mp4  \n",
            "  inflating: ./train_videos/dqzreruvje.mp4  \n",
            "  inflating: ./train_videos/drcyabprvt.mp4  \n",
            "  inflating: ./train_videos/drgjzlxzxj.mp4  \n",
            "  inflating: ./train_videos/drsakwyvqv.mp4  \n",
            "  inflating: ./train_videos/drtbksnpol.mp4  \n",
            "  inflating: ./train_videos/dsdoseflas.mp4  \n",
            "  inflating: ./train_videos/dsgpbgsrdm.mp4  \n",
            "  inflating: ./train_videos/dsjbknkujw.mp4  \n",
            "  inflating: ./train_videos/dsndhujjjb.mp4  \n",
            "  inflating: ./train_videos/dtbpmdqvao.mp4  \n",
            "  inflating: ./train_videos/dtocdfbwca.mp4  \n",
            "  inflating: ./train_videos/dubiroskqn.mp4  \n",
            "  inflating: ./train_videos/dulanfulol.mp4  \n",
            "  inflating: ./train_videos/duvyaxbzvp.mp4  \n",
            "  inflating: ./train_videos/duycddgtrl.mp4  \n",
            "  inflating: ./train_videos/duzuusuajr.mp4  \n",
            "  inflating: ./train_videos/dvakowbgbt.mp4  \n",
            "  inflating: ./train_videos/dvumqqhoac.mp4  \n",
            "  inflating: ./train_videos/dwediigjit.mp4  \n",
            "  inflating: ./train_videos/dxbqjxrhin.mp4  \n",
            "  inflating: ./train_videos/dxuliowugt.mp4  \n",
            "  inflating: ./train_videos/dxuplhwvig.mp4  \n",
            "  inflating: ./train_videos/dzieklokdr.mp4  \n",
            "  inflating: ./train_videos/dzqwgqewhu.mp4  \n",
            "  inflating: ./train_videos/dzvyfiarrq.mp4  \n",
            "  inflating: ./train_videos/dzwkmcwkwl.mp4  \n",
            "  inflating: ./train_videos/dzyuwjkjui.mp4  \n",
            "  inflating: ./train_videos/eahlqmfvtj.mp4  \n",
            "  inflating: ./train_videos/eajlrktemq.mp4  \n",
            "  inflating: ./train_videos/ebchwmwayp.mp4  \n",
            "  inflating: ./train_videos/ebebgmtlcu.mp4  \n",
            "  inflating: ./train_videos/ebeknhudxq.mp4  \n",
            "  inflating: ./train_videos/ebkzwjgjhq.mp4  \n",
            "  inflating: ./train_videos/ebywfrmhtd.mp4  \n",
            "  inflating: ./train_videos/eckvhdusax.mp4  \n",
            "  inflating: ./train_videos/ecnihjlfyt.mp4  \n",
            "  inflating: ./train_videos/ecujsjhscd.mp4  \n",
            "  inflating: ./train_videos/ecuvtoltue.mp4  \n",
            "  inflating: ./train_videos/ecwaxgutkc.mp4  \n",
            "  inflating: ./train_videos/eczrseixwq.mp4  \n",
            "  inflating: ./train_videos/edyncaijwx.mp4  \n",
            "  inflating: ./train_videos/eebrkicpry.mp4  \n",
            "  inflating: ./train_videos/eebserckhh.mp4  \n",
            "  inflating: ./train_videos/eejswgycjc.mp4  \n",
            "  inflating: ./train_videos/eekozbeafq.mp4  \n",
            "  inflating: ./train_videos/eepezmygaq.mp4  \n",
            "  inflating: ./train_videos/eeyhxisdfh.mp4  \n",
            "  inflating: ./train_videos/efdyrflcpg.mp4  \n",
            "  inflating: ./train_videos/efwfxwwlbw.mp4  \n",
            "  inflating: ./train_videos/egbbcxcuqy.mp4  \n",
            "  inflating: ./train_videos/eggbjzxnmg.mp4  \n",
            "  inflating: ./train_videos/egghxjjmfg.mp4  \n",
            "  inflating: ./train_videos/ehbnclaukr.mp4  \n",
            "  inflating: ./train_videos/ehccixxzoe.mp4  \n",
            "  inflating: ./train_videos/ehdkmxgtxh.mp4  \n",
            "  inflating: ./train_videos/ehevsxtecd.mp4  \n",
            "  inflating: ./train_videos/ehfiekigla.mp4  \n",
            "  inflating: ./train_videos/ehieahnhte.mp4  \n",
            "  inflating: ./train_videos/ehtdtkmmli.mp4  \n",
            "  inflating: ./train_videos/eiriyukqqy.mp4  \n",
            "  inflating: ./train_videos/eivxffliio.mp4  \n",
            "  inflating: ./train_videos/eiwopxzjfn.mp4  \n",
            "  inflating: ./train_videos/eixwxvxbbn.mp4  \n",
            "  inflating: ./train_videos/ejkqesyvam.mp4  \n",
            "  inflating: ./train_videos/ekcrtigpab.mp4  \n",
            "  inflating: ./train_videos/ekhacizpah.mp4  \n",
            "  inflating: ./train_videos/ekkdjkirzq.mp4  \n",
            "  inflating: ./train_videos/elginszwtk.mp4  \n",
            "  inflating: ./train_videos/ellavthztb.mp4  \n",
            "  inflating: ./train_videos/elvvackpjh.mp4  \n",
            "  inflating: ./train_videos/emaalmsonj.mp4  \n",
            "  inflating: ./train_videos/emfbhytfhc.mp4  \n",
            "  inflating: ./train_videos/emgjphonqb.mp4  \n",
            "  inflating: ./train_videos/ensyyivobf.mp4  \n",
            "  inflating: ./train_videos/eoewqcpbgt.mp4  \n",
            "  inflating: ./train_videos/eprybmbpba.mp4  \n",
            "  inflating: ./train_videos/epymyyiblu.mp4  \n",
            "  inflating: ./train_videos/eqjscdagiv.mp4  \n",
            "  inflating: ./train_videos/eqnoqyfquo.mp4  \n",
            "  inflating: ./train_videos/eqvuznuwsa.mp4  \n",
            "  inflating: ./train_videos/erlvuvjsjf.mp4  \n",
            "  inflating: ./train_videos/erqgqacbqe.mp4  \n",
            "  inflating: ./train_videos/errocgcham.mp4  \n",
            "  inflating: ./train_videos/esckbnkkvb.mp4  \n",
            "  inflating: ./train_videos/esgftaficx.mp4  \n",
            "  inflating: ./train_videos/esnntzzajv.mp4  \n",
            "  inflating: ./train_videos/esxrvsgpvb.mp4  \n",
            "  inflating: ./train_videos/esyhwdfnxs.mp4  \n",
            "  inflating: ./train_videos/esyrimvzsa.mp4  \n",
            "  inflating: ./train_videos/etdcqxabww.mp4  \n",
            "  inflating: ./train_videos/etejaapnxh.mp4  \n",
            "  inflating: ./train_videos/etmcruaihe.mp4  \n",
            "  inflating: ./train_videos/etohcvnzbj.mp4  \n",
            "  inflating: ./train_videos/eudeqjhdfd.mp4  \n",
            "  inflating: ./train_videos/eukvucdetx.mp4  \n",
            "  inflating: ./train_videos/metadata.json  \n",
            "Archive:  ./test_videos.zip\n",
            "  inflating: ./test_videos/aassnaulhq.mp4  \n",
            "  inflating: ./test_videos/aayfryxljh.mp4  \n",
            "  inflating: ./test_videos/acazlolrpz.mp4  \n",
            "  inflating: ./test_videos/adohdulfwb.mp4  \n",
            "  inflating: ./test_videos/ahjnxtiamx.mp4  \n",
            "  inflating: ./test_videos/ajiyrjfyzp.mp4  \n",
            "  inflating: ./test_videos/aktnlyqpah.mp4  \n",
            "  inflating: ./test_videos/alrtntfxtd.mp4  \n",
            "  inflating: ./test_videos/aomqqjipcp.mp4  \n",
            "  inflating: ./test_videos/apedduehoy.mp4  \n",
            "  inflating: ./test_videos/apvzjkvnwn.mp4  \n",
            "  inflating: ./test_videos/aqrsylrzgi.mp4  \n",
            "  inflating: ./test_videos/axfhbpkdlc.mp4  \n",
            "  inflating: ./test_videos/ayipraspbn.mp4  \n",
            "  inflating: ./test_videos/bcbqxhziqz.mp4  \n",
            "  inflating: ./test_videos/bcvheslzrq.mp4  \n",
            "  inflating: ./test_videos/bdshuoldwx.mp4  \n",
            "  inflating: ./test_videos/bfdopzvxbi.mp4  \n",
            "  inflating: ./test_videos/bfjsthfhbd.mp4  \n",
            "  inflating: ./test_videos/bjyaxvggle.mp4  \n",
            "  inflating: ./test_videos/bkcyglmfci.mp4  \n",
            "  inflating: ./test_videos/bktkwbcawi.mp4  \n",
            "  inflating: ./test_videos/bkuzquigyt.mp4  \n",
            "  inflating: ./test_videos/blnmxntbey.mp4  \n",
            "  inflating: ./test_videos/blszgmxkvu.mp4  \n",
            "  inflating: ./test_videos/bnuwxhfahw.mp4  \n",
            "  inflating: ./test_videos/bofrwgeyjo.mp4  \n",
            "  inflating: ./test_videos/btdxnajogv.mp4  \n",
            "  inflating: ./test_videos/bvpeerislp.mp4  \n",
            "  inflating: ./test_videos/bwdmzwhdnw.mp4  \n",
            "  inflating: ./test_videos/bzvzpwrabw.mp4  \n",
            "  inflating: ./test_videos/cekarydqba.mp4  \n",
            "  inflating: ./test_videos/cekwtyxdoo.mp4  \n",
            "  inflating: ./test_videos/cjkctqqakb.mp4  \n",
            "  inflating: ./test_videos/cnpanmywno.mp4  \n",
            "  inflating: ./test_videos/cnxccbjlct.mp4  \n",
            "  inflating: ./test_videos/coqwgzpbhx.mp4  \n",
            "  inflating: ./test_videos/cosghhimnd.mp4  \n",
            "  inflating: ./test_videos/coujjnypba.mp4  \n",
            "  inflating: ./test_videos/cqhwesrciw.mp4  \n",
            "  inflating: ./test_videos/cqxxumarvp.mp4  \n",
            "  inflating: ./test_videos/csnkohqxdv.mp4  \n",
            "  inflating: ./test_videos/cxsvvnxpyz.mp4  \n",
            "  inflating: ./test_videos/czfqlbcfpa.mp4  \n",
            "  inflating: ./test_videos/dcqodpzomd.mp4  \n",
            "  inflating: ./test_videos/ddtbarpcgo.mp4  \n",
            "  inflating: ./test_videos/demuhxssgl.mp4  \n",
            "  inflating: ./test_videos/didzujjhtg.mp4  \n",
            "  inflating: ./test_videos/dkuqbduxev.mp4  \n",
            "  inflating: ./test_videos/dmmvuaikkv.mp4  \n",
            "  inflating: ./test_videos/dnmowthjcj.mp4  \n",
            "  inflating: ./test_videos/doniqevxeg.mp4  \n",
            "  inflating: ./test_videos/dozjwhnedd.mp4  \n",
            "  inflating: ./test_videos/dpevefkefv.mp4  \n",
            "  inflating: ./test_videos/dpmgoiwhuf.mp4  \n",
            "  inflating: ./test_videos/dsnxgrfdmd.mp4  \n",
            "  inflating: ./test_videos/dtozwcapoa.mp4  \n",
            "  inflating: ./test_videos/dvkdfhrpph.mp4  \n",
            "  inflating: ./test_videos/dvtpwatuja.mp4  \n",
            "  inflating: ./test_videos/dvwpvqdflx.mp4  \n",
            "  inflating: ./test_videos/dxfdovivlw.mp4  \n",
            "  inflating: ./test_videos/dxgnpnowgk.mp4  \n",
            "  inflating: ./test_videos/dyjklprkoc.mp4  \n",
            "  inflating: ./test_videos/dzkyxbbqkr.mp4  \n",
            "  inflating: ./test_videos/dzojiwfvba.mp4  \n",
            "  inflating: ./test_videos/ecumyiowzs.mp4  \n",
            "  inflating: ./test_videos/eisofhptvk.mp4  \n",
            "  inflating: ./test_videos/ekboxwrwuv.mp4  \n",
            "  inflating: ./test_videos/ekelfsnqof.mp4  \n",
            "  inflating: ./test_videos/ekvwecwltj.mp4  \n",
            "  inflating: ./test_videos/elackxuccp.mp4  \n",
            "  inflating: ./test_videos/eppyqpgewp.mp4  \n",
            "  inflating: ./test_videos/eqslzbqfea.mp4  \n",
            "  inflating: ./test_videos/eryjktdexi.mp4  \n",
            "  inflating: ./test_videos/esjdyghhog.mp4  \n",
            "  inflating: ./test_videos/esmqxszybs.mp4  \n",
            "  inflating: ./test_videos/espkiocpxq.mp4  \n",
            "  inflating: ./test_videos/etdliwticv.mp4  \n",
            "  inflating: ./test_videos/evysmtpnrf.mp4  \n",
            "  inflating: ./test_videos/eyguqfmgzh.mp4  \n",
            "  inflating: ./test_videos/eywdmustbb.mp4  \n",
            "  inflating: ./test_videos/famlupsgqm.mp4  \n",
            "  inflating: ./test_videos/fddmkqjwsh.mp4  \n",
            "  inflating: ./test_videos/fjrueenjyp.mp4  \n",
            "  inflating: ./test_videos/fjxovgmwnm.mp4  \n",
            "  inflating: ./test_videos/fmhiujydwo.mp4  \n",
            "  inflating: ./test_videos/fmvvmcbdrw.mp4  \n",
            "  inflating: ./test_videos/fneqiqpqvs.mp4  \n",
            "  inflating: ./test_videos/fnxgqcvlsd.mp4  \n",
            "  inflating: ./test_videos/fopjiyxiqd.mp4  \n",
            "  inflating: ./test_videos/fpevfidstw.mp4  \n",
            "  inflating: ./test_videos/fqgypsunzr.mp4  \n",
            "  inflating: ./test_videos/frqfsucgao.mp4  \n",
            "  inflating: ./test_videos/fsdrwikhge.mp4  \n",
            "  inflating: ./test_videos/fwykevubzy.mp4  \n",
            "  inflating: ./test_videos/fxuxxtryjn.mp4  \n",
            "  inflating: ./test_videos/fzvpbrzssi.mp4  \n",
            "  inflating: ./test_videos/gahgyuwzbu.mp4  \n",
            "  inflating: ./test_videos/gbnzicjyhz.mp4  \n",
            "  inflating: ./test_videos/gccnvdoknm.mp4  \n",
            "  inflating: ./test_videos/gcdtglsoqj.mp4  \n",
            "  inflating: ./test_videos/gfcycflhbo.mp4  \n",
            "  inflating: ./test_videos/gfdjzwnpyp.mp4  \n",
            "  inflating: ./test_videos/gfgcwxkbjd.mp4  \n",
            "  inflating: ./test_videos/ggdpclfcgk.mp4  \n",
            "  inflating: ./test_videos/ggzjfrirjh.mp4  \n",
            "  inflating: ./test_videos/ghnpsltzyn.mp4  \n",
            "  inflating: ./test_videos/gkutjglghz.mp4  \n",
            "  inflating: ./test_videos/gochxzemmq.mp4  \n",
            "  inflating: ./test_videos/gpsxfxrjrr.mp4  \n",
            "  inflating: ./test_videos/gqnaxievjx.mp4  \n",
            "  inflating: ./test_videos/gunamloolc.mp4  \n",
            "  inflating: ./test_videos/halvwiltfs.mp4  \n",
            "  inflating: ./test_videos/hbufmvbium.mp4  \n",
            "  inflating: ./test_videos/hcanfkwivl.mp4  \n",
            "  inflating: ./test_videos/hclsparpth.mp4  \n",
            "  inflating: ./test_videos/hefisnapds.mp4  \n",
            "  inflating: ./test_videos/heiyoojifp.mp4  \n",
            "  inflating: ./test_videos/hevcclcklc.mp4  \n",
            "  inflating: ./test_videos/hfsvqabzfq.mp4  \n",
            "  inflating: ./test_videos/hicjuubiau.mp4  \n",
            "  inflating: ./test_videos/hierggamuo.mp4  \n",
            "  inflating: ./test_videos/hitfycdavv.mp4  \n",
            "  inflating: ./test_videos/hnfwagcxdf.mp4  \n",
            "  inflating: ./test_videos/honxqdilvv.mp4  \n",
            "  inflating: ./test_videos/hqzwudvhih.mp4  \n",
            "  inflating: ./test_videos/hsbljbsgxr.mp4  \n",
            "  inflating: ./test_videos/hsbwhlolsn.mp4  \n",
            "  inflating: ./test_videos/hszwwswewp.mp4  \n",
            "  inflating: ./test_videos/htzbnroagi.mp4  \n",
            "  inflating: ./test_videos/huvlwkxoxm.mp4  \n",
            "  inflating: ./test_videos/hweshqpfwe.mp4  \n",
            "  inflating: ./test_videos/hxwtsaydal.mp4  \n",
            "  inflating: ./test_videos/hyjqolupxn.mp4  \n",
            "  inflating: ./test_videos/hzoiotcykp.mp4  \n",
            "  inflating: ./test_videos/hzssdinxec.mp4  \n",
            "  inflating: ./test_videos/ibxfxggtqh.mp4  \n",
            "  inflating: ./test_videos/icbsahlivv.mp4  \n",
            "  inflating: ./test_videos/igpvrfjdzc.mp4  \n",
            "  inflating: ./test_videos/ihglzxzroo.mp4  \n",
            "  inflating: ./test_videos/iksxzpqxzi.mp4  \n",
            "  inflating: ./test_videos/ilqwcbprqa.mp4  \n",
            "  inflating: ./test_videos/imdmhwkkni.mp4  \n",
            "  inflating: ./test_videos/iorbtaarte.mp4  \n",
            "  inflating: ./test_videos/ipkpxvwroe.mp4  \n",
            "  inflating: ./test_videos/ipvwtgdlre.mp4  \n",
            "  inflating: ./test_videos/irqzdokcws.mp4  \n",
            "  inflating: ./test_videos/itfsvvmslp.mp4  \n",
            "  inflating: ./test_videos/iznnzjvaxc.mp4  \n",
            "  inflating: ./test_videos/jawgcggquk.mp4  \n",
            "  inflating: ./test_videos/jhczqfefgw.mp4  \n",
            "  inflating: ./test_videos/jiavqbrkyk.mp4  \n",
            "  inflating: ./test_videos/jiswxuqzyz.mp4  \n",
            "  inflating: ./test_videos/jquevmhdvc.mp4  \n",
            "  inflating: ./test_videos/jsbpkpxwew.mp4  \n",
            "  inflating: ./test_videos/jsysgmycsx.mp4  \n",
            "  inflating: ./test_videos/jyfvaequfg.mp4  \n",
            "  inflating: ./test_videos/jyoxdvxpza.mp4  \n",
            "  inflating: ./test_videos/jytrvwlewz.mp4  \n",
            "  inflating: ./test_videos/jzmzdispyo.mp4  \n",
            "  inflating: ./test_videos/kcjvhgvhpt.mp4  \n",
            "  inflating: ./test_videos/keioymnobc.mp4  \n",
            "  inflating: ./test_videos/kezwvsxxzj.mp4  \n",
            "  inflating: ./test_videos/khpipxnsvx.mp4  \n",
            "  inflating: ./test_videos/kmcdjxmnoa.mp4  \n",
            "  inflating: ./test_videos/kmqkiihrmj.mp4  \n",
            "  inflating: ./test_videos/knxltsvzyu.mp4  \n",
            "  inflating: ./test_videos/kowiwvrjht.mp4  \n",
            "  inflating: ./test_videos/kqlvggiqee.mp4  \n",
            "  inflating: ./test_videos/kvmpmhdxly.mp4  \n",
            "  inflating: ./test_videos/kwfdyqofzw.mp4  \n",
            "  inflating: ./test_videos/lbfqksftuo.mp4  \n",
            "  inflating: ./test_videos/lbigytrrtr.mp4  \n",
            "  inflating: ./test_videos/lebzjtusnr.mp4  \n",
            "  inflating: ./test_videos/lhvjzhjxdp.mp4  \n",
            "  inflating: ./test_videos/ljauauuyka.mp4  \n",
            "  inflating: ./test_videos/ljouzjaqqe.mp4  \n",
            "  inflating: ./test_videos/llplvmcvbl.mp4  \n",
            "  inflating: ./test_videos/lmdyicksrv.mp4  \n",
            "  inflating: ./test_videos/lnhkjhyhvw.mp4  \n",
            "  inflating: ./test_videos/lnjkpdviqb.mp4  \n",
            "  inflating: ./test_videos/lpgxwdgnio.mp4  \n",
            "  inflating: ./test_videos/lpkgabskbw.mp4  \n",
            "  inflating: ./test_videos/lujvyveojc.mp4  \n",
            "  inflating: ./test_videos/lyoslorecs.mp4  \n",
            "  inflating: ./test_videos/mdfndlljvt.mp4  \n",
            "  inflating: ./test_videos/mkmgcxaztt.mp4  \n",
            "  inflating: ./test_videos/mkzaekkvej.mp4  \n",
            "  inflating: ./test_videos/mllzkpgatp.mp4  \n",
            "  inflating: ./test_videos/mnowxangqx.mp4  \n",
            "  inflating: ./test_videos/mnzabbkpmt.mp4  \n",
            "  inflating: ./test_videos/mohiqoogpb.mp4  \n",
            "  inflating: ./test_videos/mszblrdprw.mp4  \n",
            "  inflating: ./test_videos/mwnibuujwz.mp4  \n",
            "  inflating: ./test_videos/mwwploizlj.mp4  \n",
            "  inflating: ./test_videos/mxahsihabr.mp4  \n",
            "  inflating: ./test_videos/mxlipjhmqk.mp4  \n",
            "  inflating: ./test_videos/ncmpqwmnzb.mp4  \n",
            "  inflating: ./test_videos/ncoeewrdlo.mp4  \n",
            "  inflating: ./test_videos/ndikguxzek.mp4  \n",
            "  inflating: ./test_videos/nikynwcvuh.mp4  \n",
            "  inflating: ./test_videos/njzshtfmcw.mp4  \n",
            "  inflating: ./test_videos/nkhzxomani.mp4  \n",
            "  inflating: ./test_videos/novarhxpbj.mp4  \n",
            "  inflating: ./test_videos/nplviymzlg.mp4  \n",
            "  inflating: ./test_videos/nswtvttxre.mp4  \n",
            "  inflating: ./test_videos/nthpnwylxo.mp4  \n",
            "  inflating: ./test_videos/nwvloufjty.mp4  \n",
            "  inflating: ./test_videos/nwvsbmyndn.mp4  \n",
            "  inflating: ./test_videos/nxgzmgzkfv.mp4  \n",
            "  inflating: ./test_videos/nxnmkytwze.mp4  \n",
            "  inflating: ./test_videos/nxzgekegsp.mp4  \n",
            "  inflating: ./test_videos/nycmyuzpml.mp4  \n",
            "  inflating: ./test_videos/nymodlmxni.mp4  \n",
            "  inflating: ./test_videos/oaguiggjyv.mp4  \n",
            "  inflating: ./test_videos/ocgdbrgmtq.mp4  \n",
            "  inflating: ./test_videos/oefukgnvel.mp4  \n",
            "  inflating: ./test_videos/oelqpetgwj.mp4  \n",
            "  inflating: ./test_videos/ojsxxkalat.mp4  \n",
            "  inflating: ./test_videos/okgelildpc.mp4  \n",
            "  inflating: ./test_videos/omphqltjdd.mp4  \n",
            "  inflating: ./test_videos/ooafcxxfrs.mp4  \n",
            "  inflating: ./test_videos/oocincvedt.mp4  \n",
            "  inflating: ./test_videos/oojxonbgow.mp4  \n",
            "  inflating: ./test_videos/opvqdabdap.mp4  \n",
            "  inflating: ./test_videos/orekjthsef.mp4  \n",
            "  inflating: ./test_videos/orixbcfvdz.mp4  \n",
            "  inflating: ./test_videos/ouaowjmigq.mp4  \n",
            "  inflating: ./test_videos/owaogcehvc.mp4  \n",
            "  inflating: ./test_videos/oyqgwjdwaj.mp4  \n",
            "  inflating: ./test_videos/oysopgovhu.mp4  \n",
            "  inflating: ./test_videos/papagllumt.mp4  \n",
            "  inflating: ./test_videos/pcoxcmtroa.mp4  \n",
            "  inflating: ./test_videos/pcyswtgick.mp4  \n",
            "  inflating: ./test_videos/pdswwyyntw.mp4  \n",
            "  inflating: ./test_videos/pdufsewrec.mp4  \n",
            "  inflating: ./test_videos/petmyhjclt.mp4  \n",
            "  inflating: ./test_videos/phjvutxpoi.mp4  \n",
            "  inflating: ./test_videos/pqdeutauqc.mp4  \n",
            "  inflating: ./test_videos/pqthmvwonf.mp4  \n",
            "  inflating: ./test_videos/prhmixykhr.mp4  \n",
            "  inflating: ./test_videos/prwsfljdjo.mp4  \n",
            "  inflating: ./test_videos/psesikjaxx.mp4  \n",
            "  inflating: ./test_videos/ptbfnkajyi.mp4  \n",
            "  inflating: ./test_videos/ptbnewtvon.mp4  \n",
            "  inflating: ./test_videos/pxcfrszlgi.mp4  \n",
            "  inflating: ./test_videos/pxjkzvqomp.mp4  \n",
            "  inflating: ./test_videos/qarqtkvgby.mp4  \n",
            "  inflating: ./test_videos/qcbkztamqc.mp4  \n",
            "  inflating: ./test_videos/qclpbcbgeq.mp4  \n",
            "  inflating: ./test_videos/qdqdsaiitt.mp4  \n",
            "  inflating: ./test_videos/qhkzlnzruj.mp4  \n",
            "  inflating: ./test_videos/qhsehzgxqj.mp4  \n",
            "  inflating: ./test_videos/qlqhjcshpk.mp4  \n",
            "  inflating: ./test_videos/qlvsqdroqo.mp4  \n",
            "  inflating: ./test_videos/qooxnxqqjb.mp4  \n",
            "  inflating: ./test_videos/qqnlrngaft.mp4  \n",
            "  inflating: ./test_videos/qsjiypnjwi.mp4  \n",
            "  inflating: ./test_videos/qswlzfgcgj.mp4  \n",
            "  inflating: ./test_videos/qxyrtwozyw.mp4  \n",
            "  inflating: ./test_videos/qyyhuvqmyf.mp4  \n",
            "  inflating: ./test_videos/rcecrgeotc.mp4  \n",
            "  inflating: ./test_videos/rcjfxxhcal.mp4  \n",
            "  inflating: ./test_videos/rerpivllud.mp4  \n",
            "  inflating: ./test_videos/rfjuhbnlro.mp4  \n",
            "  inflating: ./test_videos/rfwxcinshk.mp4  \n",
            "  inflating: ./test_videos/rklawjhbpv.mp4  \n",
            "  inflating: ./test_videos/rktrpsdlci.mp4  \n",
            "  inflating: ./test_videos/rmlzgerevr.mp4  \n",
            "  inflating: ./test_videos/rmufsuogzn.mp4  \n",
            "  inflating: ./test_videos/rnfcjxynfa.mp4  \n",
            "  inflating: ./test_videos/rrrfjhugvb.mp4  \n",
            "  inflating: ./test_videos/rtpbawlmxr.mp4  \n",
            "  inflating: ./test_videos/ruhtnngrqv.mp4  \n",
            "  inflating: ./test_videos/rukyxomwcx.mp4  \n",
            "  inflating: ./test_videos/rvvpazsffd.mp4  \n",
            "  inflating: ./test_videos/rxdoimqble.mp4  \n",
            "  inflating: ./test_videos/ryxaqpfubf.mp4  \n",
            "  inflating: ./test_videos/scbdenmaed.mp4  \n",
            "  inflating: ./test_videos/scrbqgpvzz.mp4  \n",
            "  inflating: ./test_videos/sfsayjgzrh.mp4  \n",
            "  inflating: ./test_videos/shnsajrsow.mp4  \n",
            "  inflating: ./test_videos/siebfpwuhu.mp4  \n",
            "  inflating: ./test_videos/sjinmmbipg.mp4  \n",
            "  inflating: ./test_videos/sjkfxrlxxs.mp4  \n",
            "  inflating: ./test_videos/sjwywglgym.mp4  \n",
            "  inflating: ./test_videos/sktpeppbkc.mp4  \n",
            "  inflating: ./test_videos/sngjsueuhs.mp4  \n",
            "  inflating: ./test_videos/snlyjbnpgw.mp4  \n",
            "  inflating: ./test_videos/sodvtfqbpf.mp4  \n",
            "  inflating: ./test_videos/sqixhnilfm.mp4  \n",
            "  inflating: ./test_videos/srfefmyjvt.mp4  \n",
            "  inflating: ./test_videos/sufvvwmbha.mp4  \n",
            "  inflating: ./test_videos/swsaoktwgi.mp4  \n",
            "  inflating: ./test_videos/sylnrepacf.mp4  \n",
            "  inflating: ./test_videos/syuxttuyhm.mp4  \n",
            "  inflating: ./test_videos/syxobtuucp.mp4  \n",
            "  inflating: ./test_videos/sznkemeqro.mp4  \n",
            "  inflating: ./test_videos/tejfudfgpq.mp4  \n",
            "  inflating: ./test_videos/temeqbmzxu.mp4  \n",
            "  inflating: ./test_videos/temjefwaas.mp4  \n",
            "  inflating: ./test_videos/tgawasvbbr.mp4  \n",
            "  inflating: ./test_videos/tjuihawuqm.mp4  \n",
            "  inflating: ./test_videos/tjywwgftmv.mp4  \n",
            "  inflating: ./test_videos/toinozytsp.mp4  \n",
            "  inflating: ./test_videos/tvhjcfnqtg.mp4  \n",
            "  inflating: ./test_videos/txmnoyiyte.mp4  \n",
            "  inflating: ./test_videos/txnmkabufs.mp4  \n",
            "  inflating: ./test_videos/tyjpjpglgx.mp4  \n",
            "  inflating: ./test_videos/tynfsthodx.mp4  \n",
            "  inflating: ./test_videos/ucthmsajay.mp4  \n",
            "  inflating: ./test_videos/udxqbhgvvx.mp4  \n",
            "  inflating: ./test_videos/uhakqelqri.mp4  \n",
            "  inflating: ./test_videos/uhrqlmlclw.mp4  \n",
            "  inflating: ./test_videos/uoccaiathd.mp4  \n",
            "  inflating: ./test_videos/upmgtackuf.mp4  \n",
            "  inflating: ./test_videos/uqvxjfpwdo.mp4  \n",
            "  inflating: ./test_videos/usqqvxcjmg.mp4  \n",
            "  inflating: ./test_videos/uubgqnvfdl.mp4  \n",
            "  inflating: ./test_videos/uvrzaczrbx.mp4  \n",
            "  inflating: ./test_videos/uxuvkrjhws.mp4  \n",
            "  inflating: ./test_videos/vajkicalux.mp4  \n",
            "  inflating: ./test_videos/vbcgoyxsvn.mp4  \n",
            "  inflating: ./test_videos/vdtsbqidjb.mp4  \n",
            "  inflating: ./test_videos/vhbbwdflyh.mp4  \n",
            "  inflating: ./test_videos/viteugozpv.mp4  \n",
            "  inflating: ./test_videos/vizerpsvbz.mp4  \n",
            "  inflating: ./test_videos/vjljdfopjg.mp4  \n",
            "  inflating: ./test_videos/vmxfwxgdei.mp4  \n",
            "  inflating: ./test_videos/vnlzxqwthl.mp4  \n",
            "  inflating: ./test_videos/voawxrmqyl.mp4  \n",
            "  inflating: ./test_videos/vokrpfjpeb.mp4  \n",
            "  inflating: ./test_videos/vssmlqoiti.mp4  \n",
            "  inflating: ./test_videos/vtunvalyji.mp4  \n",
            "  inflating: ./test_videos/vurjckblge.mp4  \n",
            "  inflating: ./test_videos/vvfszaosiv.mp4  \n",
            "  inflating: ./test_videos/vwxednhlwz.mp4  \n",
            "  inflating: ./test_videos/wadvzjhwtw.mp4  \n",
            "  inflating: ./test_videos/waucvvmtkq.mp4  \n",
            "  inflating: ./test_videos/wclvkepakb.mp4  \n",
            "  inflating: ./test_videos/wcqvzujamg.mp4  \n",
            "  inflating: ./test_videos/wcssbghcpc.mp4  \n",
            "  inflating: ./test_videos/wcvsqnplsk.mp4  \n",
            "  inflating: ./test_videos/wfzjxzhdkj.mp4  \n",
            "  inflating: ./test_videos/wixbuuzygv.mp4  \n",
            "  inflating: ./test_videos/wjhpisoeaj.mp4  \n",
            "  inflating: ./test_videos/wmoqzxddkb.mp4  \n",
            "  inflating: ./test_videos/wndursivcx.mp4  \n",
            "  inflating: ./test_videos/wnlubukrki.mp4  \n",
            "  inflating: ./test_videos/wqysrieiqu.mp4  \n",
            "  inflating: ./test_videos/wvgviwnwob.mp4  \n",
            "  inflating: ./test_videos/wynotylpnm.mp4  \n",
            "  inflating: ./test_videos/xcruhaccxc.mp4  \n",
            "  inflating: ./test_videos/xdezcezszc.mp4  \n",
            "  inflating: ./test_videos/xhtppuyqdr.mp4  \n",
            "  inflating: ./test_videos/xitgdpzbxv.mp4  \n",
            "  inflating: ./test_videos/xjvxtuakyd.mp4  \n",
            "  inflating: ./test_videos/xljemofssi.mp4  \n",
            "  inflating: ./test_videos/xmkwsnuzyq.mp4  \n",
            "  inflating: ./test_videos/xphdfgmfmz.mp4  \n",
            "  inflating: ./test_videos/xrtvqhdibb.mp4  \n",
            "  inflating: ./test_videos/xugmhbetrw.mp4  \n",
            "  inflating: ./test_videos/xxzefxwyku.mp4  \n",
            "  inflating: ./test_videos/yarpxfqejd.mp4  \n",
            "  inflating: ./test_videos/yaxgpxhavq.mp4  \n",
            "  inflating: ./test_videos/ybbrkacebd.mp4  \n",
            "  inflating: ./test_videos/yhjlnisfel.mp4  \n",
            "  inflating: ./test_videos/yhylappzid.mp4  \n",
            "  inflating: ./test_videos/yietrwuncf.mp4  \n",
            "  inflating: ./test_videos/yiykshcbaz.mp4  \n",
            "  inflating: ./test_videos/yljecirelf.mp4  \n",
            "  inflating: ./test_videos/yllztsrwjw.mp4  \n",
            "  inflating: ./test_videos/ylxwcwhjjd.mp4  \n",
            "  inflating: ./test_videos/yoyhmxtrys.mp4  \n",
            "  inflating: ./test_videos/ypbtpunjvm.mp4  \n",
            "  inflating: ./test_videos/yqhouqakbx.mp4  \n",
            "  inflating: ./test_videos/yronlutbgm.mp4  \n",
            "  inflating: ./test_videos/ystdtnetgj.mp4  \n",
            "  inflating: ./test_videos/ytddugrwph.mp4  \n",
            "  inflating: ./test_videos/ytopzxrswu.mp4  \n",
            "  inflating: ./test_videos/ywauoonmlr.mp4  \n",
            "  inflating: ./test_videos/ywxpquomgt.mp4  \n",
            "  inflating: ./test_videos/yxadevzohx.mp4  \n",
            "  inflating: ./test_videos/yxirnfyijn.mp4  \n",
            "  inflating: ./test_videos/yxvmusxvcz.mp4  \n",
            "  inflating: ./test_videos/yzuestxcbq.mp4  \n",
            "  inflating: ./test_videos/zbgssotnjm.mp4  \n",
            "  inflating: ./test_videos/zcxcmneefk.mp4  \n",
            "  inflating: ./test_videos/zfobicuigx.mp4  \n",
            "  inflating: ./test_videos/zfrrixsimm.mp4  \n",
            "  inflating: ./test_videos/zgbhzkditd.mp4  \n",
            "  inflating: ./test_videos/zgjosltkie.mp4  \n",
            "  inflating: ./test_videos/ziipxxchai.mp4  \n",
            "  inflating: ./test_videos/zmxeiipnqb.mp4  \n",
            "  inflating: ./test_videos/ztyuiqrhdk.mp4  \n",
            "  inflating: ./test_videos/ztyvglkcsf.mp4  \n",
            "  inflating: ./test_videos/zuwwbbusgl.mp4  \n",
            "  inflating: ./test_videos/zxacihctqp.mp4  \n",
            "  inflating: ./test_videos/zyufpqvpyu.mp4  \n",
            "  inflating: ./test_videos/zzmgnglanj.mp4  \n"
          ],
          "name": "stdout"
        }
      ]
    },
    {
      "cell_type": "code",
      "metadata": {
        "id": "ViWEZl8CnRCZ"
      },
      "source": [
        "TRAIN_DIR = './train_videos/'\n",
        "TEST_DIR = './test_videos/'\n",
        "\n",
        "\n",
        "BATCH_SIZE = 1\n",
        "SCALE = 0.25\n",
        "N_FRAMES = 200 "
      ],
      "execution_count": null,
      "outputs": []
    },
    {
      "cell_type": "code",
      "metadata": {
        "id": "4nH4_HvTnZNZ",
        "outputId": "50723350-97f4-460e-f953-3b1aaef7568e",
        "colab": {
          "base_uri": "https://localhost:8080/"
        }
      },
      "source": [
        "!pip install facenet_pytorch"
      ],
      "execution_count": null,
      "outputs": [
        {
          "output_type": "stream",
          "text": [
            "Requirement already satisfied: facenet_pytorch in /usr/local/lib/python3.6/dist-packages (2.5.0)\n",
            "Requirement already satisfied: pillow in /usr/local/lib/python3.6/dist-packages (from facenet_pytorch) (7.0.0)\n",
            "Requirement already satisfied: numpy in /usr/local/lib/python3.6/dist-packages (from facenet_pytorch) (1.18.5)\n",
            "Requirement already satisfied: torchvision in /usr/local/lib/python3.6/dist-packages (from facenet_pytorch) (0.8.1+cu101)\n",
            "Requirement already satisfied: requests in /usr/local/lib/python3.6/dist-packages (from facenet_pytorch) (2.23.0)\n",
            "Requirement already satisfied: torch==1.7.0 in /usr/local/lib/python3.6/dist-packages (from torchvision->facenet_pytorch) (1.7.0+cu101)\n",
            "Requirement already satisfied: urllib3!=1.25.0,!=1.25.1,<1.26,>=1.21.1 in /usr/local/lib/python3.6/dist-packages (from requests->facenet_pytorch) (1.24.3)\n",
            "Requirement already satisfied: idna<3,>=2.5 in /usr/local/lib/python3.6/dist-packages (from requests->facenet_pytorch) (2.10)\n",
            "Requirement already satisfied: chardet<4,>=3.0.2 in /usr/local/lib/python3.6/dist-packages (from requests->facenet_pytorch) (3.0.4)\n",
            "Requirement already satisfied: certifi>=2017.4.17 in /usr/local/lib/python3.6/dist-packages (from requests->facenet_pytorch) (2020.6.20)\n",
            "Requirement already satisfied: future in /usr/local/lib/python3.6/dist-packages (from torch==1.7.0->torchvision->facenet_pytorch) (0.16.0)\n",
            "Requirement already satisfied: dataclasses in /usr/local/lib/python3.6/dist-packages (from torch==1.7.0->torchvision->facenet_pytorch) (0.7)\n",
            "Requirement already satisfied: typing-extensions in /usr/local/lib/python3.6/dist-packages (from torch==1.7.0->torchvision->facenet_pytorch) (3.7.4.3)\n"
          ],
          "name": "stdout"
        }
      ]
    },
    {
      "cell_type": "code",
      "metadata": {
        "id": "aiWQlhDqnak8",
        "outputId": "ed505f90-af1b-4d63-e650-116ffd08c7ab",
        "colab": {
          "base_uri": "https://localhost:8080/"
        }
      },
      "source": [
        "import os\n",
        "import glob\n",
        "import json\n",
        "import torch\n",
        "import cv2\n",
        "from PIL import Image\n",
        "import numpy as np\n",
        "import pandas as pd\n",
        "from tqdm.notebook import tqdm\n",
        "from facenet_pytorch import MTCNN, InceptionResnetV1\n",
        "import matplotlib.pyplot as plt\n",
        "from sklearn.model_selection import train_test_split\n",
        "import torch.nn as nn\n",
        "import torch.optim as optim\n",
        "from torch.utils.data import DataLoader\n",
        "import torch.nn.functional as F\n",
        "\n",
        "device = 'cuda:0' if torch.cuda.is_available() else 'cpu'\n",
        "print(device)\n",
        "\n",
        "\n",
        "\n",
        "\n",
        "device = 'cuda:0' if torch.cuda.is_available() else 'cpu'\n",
        "print(f'Running on device: {device}')"
      ],
      "execution_count": null,
      "outputs": [
        {
          "output_type": "stream",
          "text": [
            "cuda:0\n",
            "Running on device: cuda:0\n"
          ],
          "name": "stdout"
        }
      ]
    },
    {
      "cell_type": "code",
      "metadata": {
        "id": "TpsYjAi0ncht"
      },
      "source": [
        "class DetectionPipeline:\n",
        "    \"\"\"Pipeline class for detecting faces in the frames of a video file.\"\"\"\n",
        "    \n",
        "    def __init__(self, detector, n_frames=None, batch_size=60, resize=None):\n",
        "        \"\"\"Constructor for DetectionPipeline class.\n",
        "        \n",
        "        Keyword Arguments:\n",
        "            n_frames {int} -- Total number of frames to load. These will be evenly spaced\n",
        "                throughout the video. If not specified (i.e., None), all frames will be loaded.\n",
        "                (default: {None})\n",
        "            batch_size {int} -- Batch size to use with MTCNN face detector. (default: {32})\n",
        "            resize {float} -- Fraction by which to resize frames from original prior to face\n",
        "                detection. A value less than 1 results in downsampling and a value greater than\n",
        "                1 result in upsampling. (default: {None})\n",
        "        \"\"\"\n",
        "        self.detector = detector\n",
        "        self.n_frames = n_frames\n",
        "        self.batch_size = batch_size\n",
        "        self.resize = resize\n",
        "    \n",
        "    def __call__(self, filename):\n",
        "        \"\"\"Load frames from an MP4 video and detect faces.\n",
        "\n",
        "        Arguments:\n",
        "            filename {str} -- Path to video.\n",
        "        \"\"\"\n",
        "        # Create video reader and find length\n",
        "        v_cap = cv2.VideoCapture(filename)\n",
        "        v_len = int(v_cap.get(cv2.CAP_PROP_FRAME_COUNT))\n",
        "\n",
        "        # Pick 'n_frames' evenly spaced frames to sample \n",
        "        # To implement if you want to skip some frames\n",
        "        if self.n_frames is None:\n",
        "            sample = np.arange(0, v_len)\n",
        "        else:\n",
        "            sample = np.linspace(0, v_len - 1, self.n_frames).astype(int)\n",
        "\n",
        "        # Loop through frames\n",
        "        faces = []\n",
        "        \n",
        "        #catch 200 frames don't care how many faces\n",
        "        for j in range(self.n_frames):\n",
        "          \n",
        "            success = v_cap.grab()\n",
        "\n",
        "      \n",
        "              # Load frame\n",
        "            success, frame = v_cap.retrieve()\n",
        "            if not success:\n",
        "                continue\n",
        "            frame = cv2.cvtColor(frame, cv2.COLOR_BGR2RGB)\n",
        "            frame = Image.fromarray(frame)\n",
        "            \n",
        "            # Resize frame to desired size\n",
        "            if self.resize is not None:\n",
        "                frame = frame.resize([int(d * self.resize) for d in frame.size])\n",
        "\n",
        "            out = self.detector(frame)\n",
        "            if out is not None:\n",
        "              faces.extend(self.detector(frame))\n",
        "          \n",
        "            \n",
        "            \n",
        "\n",
        "        v_cap.release()\n",
        "        return faces"
      ],
      "execution_count": null,
      "outputs": []
    },
    {
      "cell_type": "code",
      "metadata": {
        "id": "G1WCrq1CnjYd"
      },
      "source": [
        "def process_faces(faces, feature_extractor, embedding_output = False):\n",
        "    # Filter out frames without faces\n",
        "    faces = [f for f in faces if f is not None]\n",
        "    if len(faces) < 200:\n",
        "        return None\n",
        "    \n",
        "    faces = torch.stack(faces).to(device)\n",
        "\n",
        "    # Generate facial feature vectors using a pretrained model\n",
        "    embeddings = feature_extractor(faces)\n",
        "\n",
        "    # Calculate centroid for video and distance of each face's feature vector from centroid\n",
        "    centroid = embeddings.mean(dim=0)\n",
        "    x = (embeddings - centroid).norm(dim=1).cpu().numpy()\n",
        "    \n",
        "    if embedding_output == False:\n",
        "      return x\n",
        "    \n",
        "    x = (embeddings-centroid).cpu().numpy()\n",
        "  \n",
        "    return x\n",
        "\n"
      ],
      "execution_count": null,
      "outputs": []
    },
    {
      "cell_type": "code",
      "metadata": {
        "id": "acIBb2Hnnsae",
        "outputId": "7e00b923-13b9-4710-933f-e44d1baac09c",
        "colab": {
          "base_uri": "https://localhost:8080/",
          "height": 67,
          "referenced_widgets": [
            "3275135292364d0caf424024dc56a9c9",
            "b02030b4b9a449348a5455370dbd841c",
            "4dd704d7e13e4565b07c7578dc518646",
            "0ef2d7ec988c41de841b48389f8758e1",
            "99bbdcf7a88349d9b01d0a66916c8aa3",
            "08de9ab334674ce782c3e4cbdeb7eb1a",
            "28e0d40cd0b645a1a1fef341785cd1e7",
            "f011aade1a064c62b8da20f31aa31155"
          ]
        }
      },
      "source": [
        "# Load face detector\n",
        "face_detector = MTCNN(margin=14, keep_all=True, factor=0.5, device=device).eval()\n",
        "\n",
        "# Load facial recognition model\n",
        "feature_extractor = InceptionResnetV1(pretrained='vggface2', device=device).eval()\n",
        "\n",
        "# Define face detection pipeline\n",
        "detection_pipeline = DetectionPipeline(detector=face_detector, n_frames=N_FRAMES, batch_size=BATCH_SIZE, resize=SCALE)"
      ],
      "execution_count": null,
      "outputs": [
        {
          "output_type": "display_data",
          "data": {
            "application/vnd.jupyter.widget-view+json": {
              "model_id": "3275135292364d0caf424024dc56a9c9",
              "version_major": 2,
              "version_minor": 0
            },
            "text/plain": [
              "HBox(children=(FloatProgress(value=0.0, max=111898327.0), HTML(value='')))"
            ]
          },
          "metadata": {
            "tags": []
          }
        },
        {
          "output_type": "stream",
          "text": [
            "\n"
          ],
          "name": "stdout"
        }
      ]
    },
    {
      "cell_type": "code",
      "metadata": {
        "id": "cutdoEj0nuCh"
      },
      "source": [
        "# Get the paths of all train videos\n",
        "all_train_videos = glob.glob(os.path.join(TRAIN_DIR, '*.mp4'))\n",
        "all_test_videos = glob.glob(os.path.join(TEST_DIR, '*.mp4'))\n"
      ],
      "execution_count": null,
      "outputs": []
    },
    {
      "cell_type": "code",
      "metadata": {
        "id": "-C_sWasln46u"
      },
      "source": [
        "!cp /mydrive/Deepfake/archive.zip  ./"
      ],
      "execution_count": null,
      "outputs": []
    },
    {
      "cell_type": "code",
      "metadata": {
        "id": "39mk-hcioBLw",
        "outputId": "0dce535f-c625-4314-922d-5de743cb262f",
        "colab": {
          "base_uri": "https://localhost:8080/"
        }
      },
      "source": [
        "!unzip ./archive.zip -d ./archive/"
      ],
      "execution_count": null,
      "outputs": [
        {
          "output_type": "stream",
          "text": [
            "Archive:  ./archive.zip\n",
            "  inflating: ./archive/metadata      \n"
          ],
          "name": "stdout"
        }
      ]
    },
    {
      "cell_type": "code",
      "metadata": {
        "id": "1dfj7hemoNld",
        "outputId": "bb240bfe-fcd2-45d9-a525-3de759d03020",
        "colab": {
          "base_uri": "https://localhost:8080/",
          "height": 263
        }
      },
      "source": [
        "metadata = pd.read_csv('./archive/metadata')\n",
        "metadata = metadata[['filename','label']]\n",
        "metadata.head()"
      ],
      "execution_count": null,
      "outputs": [
        {
          "output_type": "stream",
          "text": [
            "/usr/local/lib/python3.6/dist-packages/IPython/core/interactiveshell.py:2718: DtypeWarning: Columns (14,18,19,20,21,22) have mixed types.Specify dtype option on import or set low_memory=False.\n",
            "  interactivity=interactivity, compiler=compiler, result=result)\n"
          ],
          "name": "stderr"
        },
        {
          "output_type": "execute_result",
          "data": {
            "text/html": [
              "<div>\n",
              "<style scoped>\n",
              "    .dataframe tbody tr th:only-of-type {\n",
              "        vertical-align: middle;\n",
              "    }\n",
              "\n",
              "    .dataframe tbody tr th {\n",
              "        vertical-align: top;\n",
              "    }\n",
              "\n",
              "    .dataframe thead th {\n",
              "        text-align: right;\n",
              "    }\n",
              "</style>\n",
              "<table border=\"1\" class=\"dataframe\">\n",
              "  <thead>\n",
              "    <tr style=\"text-align: right;\">\n",
              "      <th></th>\n",
              "      <th>filename</th>\n",
              "      <th>label</th>\n",
              "    </tr>\n",
              "  </thead>\n",
              "  <tbody>\n",
              "    <tr>\n",
              "      <th>0</th>\n",
              "      <td>hrundztjfb.mp4</td>\n",
              "      <td>FAKE</td>\n",
              "    </tr>\n",
              "    <tr>\n",
              "      <th>1</th>\n",
              "      <td>uyfnfvsxez.mp4</td>\n",
              "      <td>REAL</td>\n",
              "    </tr>\n",
              "    <tr>\n",
              "      <th>2</th>\n",
              "      <td>yknlciphae.mp4</td>\n",
              "      <td>FAKE</td>\n",
              "    </tr>\n",
              "    <tr>\n",
              "      <th>3</th>\n",
              "      <td>zfyczzssiz.mp4</td>\n",
              "      <td>FAKE</td>\n",
              "    </tr>\n",
              "    <tr>\n",
              "      <th>4</th>\n",
              "      <td>kggbciadwj.mp4</td>\n",
              "      <td>REAL</td>\n",
              "    </tr>\n",
              "  </tbody>\n",
              "</table>\n",
              "</div>"
            ],
            "text/plain": [
              "         filename label\n",
              "0  hrundztjfb.mp4  FAKE\n",
              "1  uyfnfvsxez.mp4  REAL\n",
              "2  yknlciphae.mp4  FAKE\n",
              "3  zfyczzssiz.mp4  FAKE\n",
              "4  kggbciadwj.mp4  REAL"
            ]
          },
          "metadata": {
            "tags": []
          },
          "execution_count": 9
        }
      ]
    },
    {
      "cell_type": "markdown",
      "metadata": {
        "id": "Ahx1MNOuExfO"
      },
      "source": [
        "# Train Embedding Extraction"
      ]
    },
    {
      "cell_type": "code",
      "metadata": {
        "id": "Sr3C6v_LodDz",
        "outputId": "0457bfb1-048f-4b2b-d8fc-6dc252de2da1",
        "colab": {
          "base_uri": "https://localhost:8080/",
          "height": 1000,
          "referenced_widgets": [
            "f2a66c71d6fc4a8a83b73bbb5a488ac6",
            "001249216aa14fb6b7fe1497f6604d47",
            "1a1634f564d042adbcbdcdcfeb5e5b7f",
            "23e30b96d3c74eacad169343597ec331",
            "d73cbb3b269840cbb7448331be5d166c",
            "f8b149c15f154a68bdc858d280943d32",
            "0b9b6b45cc1e4226b3959d3a906f5d12",
            "485ba5f277d84f6a9839b34fa638eaea"
          ]
        }
      },
      "source": [
        "train_frames_recorder = []\n",
        "counter = 0\n",
        "labels = []\n",
        "embedding_data = None\n",
        "realimagecounter = 0\n",
        "fakeimagecounter = 0\n",
        "\n",
        "\n",
        "with torch.no_grad():\n",
        "    for video_path in tqdm(all_train_videos):\n",
        "\n",
        "        filename = os.path.basename(video_path)\n",
        "\n",
        "        # Detect all faces occur in the video\n",
        "        faces = detection_pipeline(video_path)\n",
        "        \n",
        "        # Calculate the distances of all faces' feature vectors to the centroid\n",
        "        result_embeddings = process_faces(faces, feature_extractor,embedding_output=True)\n",
        "        \n",
        "        \n",
        "        if result_embeddings is None:\n",
        "            continue\n",
        "\n",
        "        if embedding_data is None:\n",
        "          embedding_data = result_embeddings\n",
        "        else:\n",
        "          embedding_data = np.concatenate((embedding_data,result_embeddings),axis = 0)\n",
        "\n",
        "       # needs to be optimized\n",
        "       \n",
        "        train_frames_recorder.append(len(result_embeddings))\n",
        "        print(\"res : \",len(result_embeddings))\n",
        "\n",
        "        label = 1 if metadata[metadata['filename'] == filename]['label'].values[0] == 'FAKE' else 0\n",
        "        if label == 0:\n",
        "          labels.extend(np.zeros((len(result_embeddings)),dtype = np.int8))\n",
        "        else:\n",
        "          labels.extend(np.ones((len(result_embeddings)),dtype = np.int8)) "
      ],
      "execution_count": null,
      "outputs": [
        {
          "output_type": "display_data",
          "data": {
            "application/vnd.jupyter.widget-view+json": {
              "model_id": "f2a66c71d6fc4a8a83b73bbb5a488ac6",
              "version_major": 2,
              "version_minor": 0
            },
            "text/plain": [
              "HBox(children=(FloatProgress(value=0.0, max=400.0), HTML(value='')))"
            ]
          },
          "metadata": {
            "tags": []
          }
        },
        {
          "output_type": "stream",
          "text": [
            "res :  202\n",
            "res :  201\n",
            "res :  201\n",
            "res :  200\n",
            "res :  200\n",
            "res :  200\n",
            "res :  204\n",
            "res :  200\n",
            "res :  206\n",
            "res :  204\n",
            "res :  200\n",
            "res :  203\n",
            "res :  405\n",
            "res :  204\n",
            "res :  200\n",
            "res :  200\n",
            "res :  200\n",
            "res :  207\n",
            "res :  200\n",
            "res :  453\n",
            "res :  200\n",
            "res :  200\n",
            "res :  210\n",
            "res :  387\n",
            "res :  257\n",
            "res :  402\n",
            "res :  223\n",
            "res :  213\n",
            "res :  202\n",
            "res :  202\n",
            "res :  201\n",
            "res :  210\n",
            "res :  202\n",
            "res :  201\n",
            "res :  403\n",
            "res :  211\n",
            "res :  207\n",
            "res :  213\n",
            "res :  200\n",
            "res :  377\n",
            "res :  200\n",
            "res :  200\n",
            "res :  200\n",
            "res :  201\n",
            "res :  384\n",
            "res :  200\n",
            "res :  200\n",
            "res :  212\n",
            "res :  201\n",
            "res :  203\n",
            "res :  200\n",
            "res :  200\n",
            "res :  200\n",
            "res :  200\n",
            "res :  200\n",
            "res :  200\n",
            "res :  200\n",
            "res :  200\n",
            "res :  200\n",
            "res :  206\n",
            "res :  400\n",
            "res :  203\n",
            "res :  200\n",
            "res :  201\n",
            "res :  200\n",
            "res :  200\n",
            "res :  437\n",
            "res :  209\n",
            "res :  200\n",
            "res :  200\n",
            "res :  200\n",
            "res :  203\n",
            "res :  200\n",
            "res :  200\n",
            "res :  200\n",
            "res :  389\n",
            "res :  403\n",
            "res :  200\n",
            "res :  205\n",
            "res :  208\n",
            "res :  200\n",
            "res :  200\n",
            "res :  200\n",
            "res :  224\n",
            "res :  203\n",
            "res :  200\n",
            "res :  200\n",
            "res :  210\n",
            "res :  202\n",
            "res :  200\n",
            "res :  200\n",
            "res :  200\n",
            "res :  200\n",
            "res :  200\n",
            "res :  210\n",
            "res :  400\n",
            "res :  206\n",
            "res :  200\n",
            "res :  400\n",
            "res :  200\n",
            "res :  202\n",
            "res :  205\n",
            "res :  201\n",
            "res :  200\n",
            "res :  381\n",
            "res :  481\n",
            "res :  200\n",
            "res :  208\n",
            "res :  209\n",
            "res :  200\n",
            "res :  205\n",
            "res :  200\n",
            "res :  200\n",
            "res :  200\n",
            "res :  200\n",
            "res :  205\n",
            "res :  200\n",
            "res :  200\n",
            "res :  200\n",
            "res :  200\n",
            "res :  201\n",
            "res :  200\n",
            "res :  235\n",
            "res :  200\n",
            "res :  200\n",
            "res :  200\n",
            "res :  209\n",
            "res :  200\n",
            "res :  205\n",
            "res :  200\n",
            "res :  245\n",
            "res :  200\n",
            "res :  201\n",
            "res :  200\n",
            "res :  201\n",
            "res :  200\n",
            "res :  441\n",
            "res :  251\n",
            "res :  200\n",
            "res :  203\n",
            "res :  200\n",
            "res :  200\n",
            "res :  201\n",
            "res :  207\n",
            "res :  219\n",
            "res :  201\n",
            "res :  412\n",
            "res :  203\n",
            "res :  201\n",
            "res :  472\n",
            "res :  400\n",
            "res :  203\n",
            "res :  200\n",
            "res :  200\n",
            "res :  200\n",
            "res :  212\n",
            "res :  200\n",
            "res :  200\n",
            "res :  201\n",
            "res :  200\n",
            "res :  200\n",
            "res :  200\n",
            "res :  200\n",
            "res :  201\n",
            "res :  200\n",
            "res :  200\n",
            "res :  209\n",
            "res :  200\n",
            "res :  200\n",
            "res :  200\n",
            "res :  458\n",
            "res :  205\n",
            "res :  380\n",
            "res :  400\n",
            "res :  201\n",
            "res :  200\n",
            "res :  208\n",
            "res :  200\n",
            "res :  202\n",
            "res :  200\n",
            "res :  200\n",
            "res :  202\n",
            "res :  210\n",
            "res :  401\n",
            "res :  200\n",
            "res :  200\n",
            "res :  200\n",
            "res :  205\n",
            "res :  200\n",
            "res :  202\n",
            "res :  200\n",
            "res :  200\n",
            "res :  200\n",
            "res :  200\n",
            "res :  200\n",
            "res :  200\n",
            "res :  200\n",
            "res :  200\n",
            "res :  201\n",
            "res :  206\n",
            "res :  401\n",
            "res :  200\n",
            "res :  200\n",
            "res :  200\n",
            "res :  200\n",
            "res :  210\n",
            "res :  207\n",
            "res :  202\n",
            "res :  201\n",
            "res :  210\n",
            "res :  200\n",
            "res :  200\n",
            "res :  200\n",
            "res :  200\n",
            "res :  200\n",
            "res :  200\n",
            "res :  201\n",
            "res :  200\n",
            "res :  200\n",
            "res :  404\n",
            "res :  200\n",
            "res :  200\n",
            "res :  200\n",
            "res :  200\n",
            "res :  212\n",
            "res :  385\n",
            "res :  205\n",
            "res :  200\n",
            "res :  207\n",
            "res :  200\n",
            "res :  400\n",
            "res :  206\n",
            "res :  212\n",
            "res :  200\n",
            "res :  200\n",
            "res :  401\n",
            "res :  203\n",
            "res :  200\n",
            "res :  400\n",
            "res :  215\n",
            "res :  215\n",
            "res :  200\n",
            "res :  200\n",
            "res :  205\n",
            "res :  200\n",
            "res :  201\n",
            "res :  200\n",
            "res :  200\n",
            "res :  201\n",
            "res :  200\n",
            "res :  200\n",
            "res :  200\n",
            "res :  200\n",
            "res :  200\n",
            "res :  203\n",
            "res :  205\n",
            "res :  200\n",
            "res :  200\n",
            "res :  208\n",
            "res :  206\n",
            "res :  200\n",
            "res :  469\n",
            "res :  200\n",
            "res :  201\n",
            "res :  201\n",
            "res :  205\n",
            "res :  200\n",
            "res :  200\n",
            "res :  201\n",
            "res :  201\n",
            "res :  362\n",
            "res :  200\n",
            "res :  200\n",
            "res :  201\n",
            "res :  472\n",
            "res :  205\n",
            "res :  203\n",
            "res :  200\n",
            "res :  200\n",
            "res :  200\n",
            "res :  206\n",
            "res :  200\n",
            "res :  201\n",
            "res :  200\n",
            "res :  200\n",
            "res :  200\n",
            "res :  200\n",
            "res :  200\n",
            "res :  210\n",
            "res :  200\n",
            "res :  200\n",
            "res :  200\n",
            "res :  444\n",
            "res :  200\n",
            "res :  402\n",
            "res :  213\n",
            "res :  200\n",
            "res :  200\n",
            "res :  200\n",
            "res :  217\n",
            "res :  203\n",
            "res :  200\n",
            "res :  200\n",
            "res :  204\n",
            "res :  200\n",
            "res :  200\n",
            "res :  200\n",
            "res :  200\n",
            "res :  200\n",
            "res :  215\n",
            "res :  400\n",
            "res :  201\n",
            "res :  200\n",
            "res :  204\n",
            "res :  201\n",
            "res :  200\n",
            "res :  213\n",
            "res :  200\n",
            "res :  200\n",
            "res :  242\n",
            "res :  200\n",
            "res :  200\n",
            "res :  204\n",
            "res :  204\n",
            "res :  400\n",
            "res :  200\n",
            "res :  506\n",
            "res :  211\n",
            "res :  200\n",
            "res :  201\n",
            "res :  200\n",
            "res :  200\n",
            "res :  200\n",
            "res :  401\n",
            "res :  201\n",
            "res :  238\n",
            "res :  203\n",
            "res :  200\n",
            "res :  211\n",
            "res :  200\n",
            "res :  209\n",
            "res :  200\n",
            "res :  200\n",
            "res :  203\n",
            "res :  200\n",
            "res :  210\n",
            "res :  201\n",
            "res :  200\n",
            "res :  201\n",
            "res :  209\n",
            "res :  211\n",
            "res :  207\n",
            "res :  204\n",
            "res :  200\n",
            "res :  200\n",
            "res :  201\n",
            "res :  401\n",
            "res :  200\n",
            "res :  200\n",
            "res :  201\n",
            "res :  200\n",
            "res :  200\n",
            "\n"
          ],
          "name": "stdout"
        }
      ]
    },
    {
      "cell_type": "markdown",
      "metadata": {
        "id": "pE4k-XAOTjj_"
      },
      "source": [
        "Number of frames extraction, should be recorded on previous code line ...\n"
      ]
    },
    {
      "cell_type": "code",
      "metadata": {
        "id": "iP8uNryUTi0b",
        "outputId": "c5ef26ef-971d-438b-a9a8-0374bebc9dd5",
        "colab": {
          "base_uri": "https://localhost:8080/",
          "height": 67,
          "referenced_widgets": [
            "6204af8787c84bb4938f89f4f490da60",
            "959144adf11f4817ad3b7d394782651d",
            "44c5cdf980e64ea299f205321f1735e4",
            "59d06f2080eb45009112f6bdee3ad50f",
            "2e335f3fa66d4be0b801ac4237499391",
            "d943acbfe1e34d7e9e07fde9cf810408",
            "105131a7b3154d8fbc78ecd0c103c380",
            "39a7ba0422494c68884b1fc2b2bf8b81"
          ]
        }
      },
      "source": [
        "train_frames_recorder = []\n",
        "\n",
        "with torch.no_grad():\n",
        "    for video_path in tqdm(all_train_videos):\n",
        "        filename = os.path.basename(video_path)\n",
        "        # Detect all faces occur in the video\n",
        "        faces = detection_pipeline(video_path)\n",
        "        \n",
        "        # Calculate the distances of all faces' feature vectors to the centroid\n",
        "        result_embeddings = process_faces(faces, feature_extractor,embedding_output=True)\n",
        "\n",
        "        if result_embeddings is None:\n",
        "            continue       \n",
        "        train_frames_recorder.append(len(result_embeddings))\n",
        "        \n"
      ],
      "execution_count": null,
      "outputs": [
        {
          "output_type": "display_data",
          "data": {
            "application/vnd.jupyter.widget-view+json": {
              "model_id": "6204af8787c84bb4938f89f4f490da60",
              "version_major": 2,
              "version_minor": 0
            },
            "text/plain": [
              "HBox(children=(FloatProgress(value=0.0, max=400.0), HTML(value='')))"
            ]
          },
          "metadata": {
            "tags": []
          }
        },
        {
          "output_type": "stream",
          "text": [
            "\n"
          ],
          "name": "stdout"
        }
      ]
    },
    {
      "cell_type": "code",
      "metadata": {
        "id": "sYKZzczQd71T"
      },
      "source": [
        "from numpy import savetxt\n",
        "train_frames_recorder = np.array(train_frames_recorder)\n",
        "savetxt('train_frames_recorder.csv', train_frames_recorder, delimiter=',')"
      ],
      "execution_count": null,
      "outputs": []
    },
    {
      "cell_type": "code",
      "metadata": {
        "id": "aS40xeH2p2YE"
      },
      "source": [
        "from numpy import savetxt\n",
        "savetxt('trainvideos_np.csv', embedding_data, delimiter=',')"
      ],
      "execution_count": null,
      "outputs": []
    },
    {
      "cell_type": "code",
      "metadata": {
        "id": "laO3PP-Lrich"
      },
      "source": [
        "!cp ./train_frames_recorder.csv /mydrive/Deepfake/train_frames_recorder.csv"
      ],
      "execution_count": null,
      "outputs": []
    },
    {
      "cell_type": "code",
      "metadata": {
        "id": "egiJGBmcIpSt"
      },
      "source": [
        "labels = np.array(labels)\n",
        "savetxt('trainvideos_labels.csv',labels,delimiter=',')"
      ],
      "execution_count": null,
      "outputs": []
    },
    {
      "cell_type": "code",
      "metadata": {
        "id": "mcCIIvy2I4H7"
      },
      "source": [
        "!cp ./trainvideos_np.csv /mydrive/Deepfake/trainvideos_np.csv\n",
        "!cp ./trainvideos_labels.csv /mydrive/Deepfake/trainvideos_labels.csv"
      ],
      "execution_count": null,
      "outputs": []
    },
    {
      "cell_type": "markdown",
      "metadata": {
        "id": "T1NmknHfE2FU"
      },
      "source": [
        "# Test Embedding Extraction"
      ]
    },
    {
      "cell_type": "code",
      "metadata": {
        "id": "ElFTD4x-JKd5",
        "outputId": "e42e8e1a-128b-4a0b-c86e-64eadd3a9715",
        "colab": {
          "base_uri": "https://localhost:8080/",
          "height": 430,
          "referenced_widgets": [
            "e984deece44b495f96f52e4246f4e39b",
            "75cb20c2a4324c8685edc0b4cf48b9f6",
            "a55f47c4f761498eb179c3f6f0d613aa",
            "79edb3ceeb6e487792713451d5507fc5",
            "d400a44e6c5c465bb1f17fe3a98c4b16",
            "b7b3cab8fd1e47d5ae8f56d077a8e768",
            "c8043af67cdf40dfb845b2e8f5180ee6",
            "0537dea4aad149589bb3870392aa4ae8"
          ]
        }
      },
      "source": [
        "df = pd.DataFrame(columns=['filename', 'distance', 'label'])\n",
        "\n",
        "counter = 0\n",
        "test_labels = []\n",
        "test_embedding_data = None\n",
        "\n",
        "\n",
        "\n",
        "with torch.no_grad():\n",
        "    for video_path in tqdm(all_test_videos):\n",
        "\n",
        "        filename = os.path.basename(video_path)\n",
        "\n",
        "        # Detect all faces occur in the video\n",
        "        faces = detection_pipeline(video_path)\n",
        "        \n",
        "        # Calculate the distances of all faces' feature vectors to the centroid\n",
        "        result_embeddings = process_faces(faces, feature_extractor,embedding_output=True)\n",
        "        \n",
        "        \n",
        "        if result_embeddings is None:\n",
        "            continue\n",
        "\n",
        "        if test_embedding_data is None:\n",
        "          test_embedding_data = result_embeddings\n",
        "        else:\n",
        "          test_embedding_data = np.concatenate((test_embedding_data,result_embeddings),axis = 0)\n",
        "\n",
        "       # needs to be optimized\n",
        "       \n",
        "        print(\"res : \",len(result_embeddings))\n",
        "\n",
        "        label = 1 if metadata[metadata['filename'] == filename]['label'].values[0] == 'FAKE' else 0\n",
        "        if label == 0:\n",
        "          test_labels.extend(np.zeros((len(result_embeddings)),dtype = np.int8))\n",
        "        else:\n",
        "          test_labels.extend(np.ones((len(result_embeddings)),dtype = np.int8)) "
      ],
      "execution_count": null,
      "outputs": [
        {
          "output_type": "display_data",
          "data": {
            "application/vnd.jupyter.widget-view+json": {
              "model_id": "e984deece44b495f96f52e4246f4e39b",
              "version_major": 2,
              "version_minor": 0
            },
            "text/plain": [
              "HBox(children=(FloatProgress(value=0.0, max=400.0), HTML(value='')))"
            ]
          },
          "metadata": {
            "tags": []
          }
        },
        {
          "output_type": "error",
          "ename": "KeyboardInterrupt",
          "evalue": "ignored",
          "traceback": [
            "\u001b[0;31m---------------------------------------------------------------------------\u001b[0m",
            "\u001b[0;31mKeyboardInterrupt\u001b[0m                         Traceback (most recent call last)",
            "\u001b[0;32m<ipython-input-212-de2774ee3453>\u001b[0m in \u001b[0;36m<module>\u001b[0;34m()\u001b[0m\n\u001b[1;32m     13\u001b[0m \u001b[0;34m\u001b[0m\u001b[0m\n\u001b[1;32m     14\u001b[0m         \u001b[0;31m# Detect all faces occur in the video\u001b[0m\u001b[0;34m\u001b[0m\u001b[0;34m\u001b[0m\u001b[0;34m\u001b[0m\u001b[0m\n\u001b[0;32m---> 15\u001b[0;31m         \u001b[0mfaces\u001b[0m \u001b[0;34m=\u001b[0m \u001b[0mdetection_pipeline\u001b[0m\u001b[0;34m(\u001b[0m\u001b[0mvideo_path\u001b[0m\u001b[0;34m)\u001b[0m\u001b[0;34m\u001b[0m\u001b[0;34m\u001b[0m\u001b[0m\n\u001b[0m\u001b[1;32m     16\u001b[0m \u001b[0;34m\u001b[0m\u001b[0m\n\u001b[1;32m     17\u001b[0m         \u001b[0;31m# Calculate the distances of all faces' feature vectors to the centroid\u001b[0m\u001b[0;34m\u001b[0m\u001b[0;34m\u001b[0m\u001b[0;34m\u001b[0m\u001b[0m\n",
            "\u001b[0;32m<ipython-input-205-13fa5487306e>\u001b[0m in \u001b[0;36m__call__\u001b[0;34m(self, filename)\u001b[0m\n\u001b[1;32m     58\u001b[0m             \u001b[0mout\u001b[0m \u001b[0;34m=\u001b[0m \u001b[0mself\u001b[0m\u001b[0;34m.\u001b[0m\u001b[0mdetector\u001b[0m\u001b[0;34m(\u001b[0m\u001b[0mframe\u001b[0m\u001b[0;34m)\u001b[0m\u001b[0;34m\u001b[0m\u001b[0;34m\u001b[0m\u001b[0m\n\u001b[1;32m     59\u001b[0m             \u001b[0;32mif\u001b[0m \u001b[0mout\u001b[0m \u001b[0;32mis\u001b[0m \u001b[0;32mnot\u001b[0m \u001b[0;32mNone\u001b[0m\u001b[0;34m:\u001b[0m\u001b[0;34m\u001b[0m\u001b[0;34m\u001b[0m\u001b[0m\n\u001b[0;32m---> 60\u001b[0;31m               \u001b[0mfaces\u001b[0m\u001b[0;34m.\u001b[0m\u001b[0mextend\u001b[0m\u001b[0;34m(\u001b[0m\u001b[0mself\u001b[0m\u001b[0;34m.\u001b[0m\u001b[0mdetector\u001b[0m\u001b[0;34m(\u001b[0m\u001b[0mframe\u001b[0m\u001b[0;34m)\u001b[0m\u001b[0;34m)\u001b[0m\u001b[0;34m\u001b[0m\u001b[0;34m\u001b[0m\u001b[0m\n\u001b[0m\u001b[1;32m     61\u001b[0m \u001b[0;34m\u001b[0m\u001b[0m\n\u001b[1;32m     62\u001b[0m \u001b[0;34m\u001b[0m\u001b[0m\n",
            "\u001b[0;32m/usr/local/lib/python3.6/dist-packages/torch/nn/modules/module.py\u001b[0m in \u001b[0;36m_call_impl\u001b[0;34m(self, *input, **kwargs)\u001b[0m\n\u001b[1;32m    725\u001b[0m             \u001b[0mresult\u001b[0m \u001b[0;34m=\u001b[0m \u001b[0mself\u001b[0m\u001b[0;34m.\u001b[0m\u001b[0m_slow_forward\u001b[0m\u001b[0;34m(\u001b[0m\u001b[0;34m*\u001b[0m\u001b[0minput\u001b[0m\u001b[0;34m,\u001b[0m \u001b[0;34m**\u001b[0m\u001b[0mkwargs\u001b[0m\u001b[0;34m)\u001b[0m\u001b[0;34m\u001b[0m\u001b[0;34m\u001b[0m\u001b[0m\n\u001b[1;32m    726\u001b[0m         \u001b[0;32melse\u001b[0m\u001b[0;34m:\u001b[0m\u001b[0;34m\u001b[0m\u001b[0;34m\u001b[0m\u001b[0m\n\u001b[0;32m--> 727\u001b[0;31m             \u001b[0mresult\u001b[0m \u001b[0;34m=\u001b[0m \u001b[0mself\u001b[0m\u001b[0;34m.\u001b[0m\u001b[0mforward\u001b[0m\u001b[0;34m(\u001b[0m\u001b[0;34m*\u001b[0m\u001b[0minput\u001b[0m\u001b[0;34m,\u001b[0m \u001b[0;34m**\u001b[0m\u001b[0mkwargs\u001b[0m\u001b[0;34m)\u001b[0m\u001b[0;34m\u001b[0m\u001b[0;34m\u001b[0m\u001b[0m\n\u001b[0m\u001b[1;32m    728\u001b[0m         for hook in itertools.chain(\n\u001b[1;32m    729\u001b[0m                 \u001b[0m_global_forward_hooks\u001b[0m\u001b[0;34m.\u001b[0m\u001b[0mvalues\u001b[0m\u001b[0;34m(\u001b[0m\u001b[0;34m)\u001b[0m\u001b[0;34m,\u001b[0m\u001b[0;34m\u001b[0m\u001b[0;34m\u001b[0m\u001b[0m\n",
            "\u001b[0;32m/usr/local/lib/python3.6/dist-packages/facenet_pytorch/models/mtcnn.py\u001b[0m in \u001b[0;36mforward\u001b[0;34m(self, img, save_path, return_prob)\u001b[0m\n\u001b[1;32m    263\u001b[0m             )\n\u001b[1;32m    264\u001b[0m         \u001b[0;31m# Extract faces\u001b[0m\u001b[0;34m\u001b[0m\u001b[0;34m\u001b[0m\u001b[0;34m\u001b[0m\u001b[0m\n\u001b[0;32m--> 265\u001b[0;31m         \u001b[0mfaces\u001b[0m \u001b[0;34m=\u001b[0m \u001b[0mself\u001b[0m\u001b[0;34m.\u001b[0m\u001b[0mextract\u001b[0m\u001b[0;34m(\u001b[0m\u001b[0mimg\u001b[0m\u001b[0;34m,\u001b[0m \u001b[0mbatch_boxes\u001b[0m\u001b[0;34m,\u001b[0m \u001b[0msave_path\u001b[0m\u001b[0;34m)\u001b[0m\u001b[0;34m\u001b[0m\u001b[0;34m\u001b[0m\u001b[0m\n\u001b[0m\u001b[1;32m    266\u001b[0m \u001b[0;34m\u001b[0m\u001b[0m\n\u001b[1;32m    267\u001b[0m         \u001b[0;32mif\u001b[0m \u001b[0mreturn_prob\u001b[0m\u001b[0;34m:\u001b[0m\u001b[0;34m\u001b[0m\u001b[0;34m\u001b[0m\u001b[0m\n",
            "\u001b[0;32m/usr/local/lib/python3.6/dist-packages/facenet_pytorch/models/mtcnn.py\u001b[0m in \u001b[0;36mextract\u001b[0;34m(self, img, batch_boxes, save_path)\u001b[0m\n\u001b[1;32m    486\u001b[0m                     \u001b[0mface_path\u001b[0m \u001b[0;34m=\u001b[0m \u001b[0msave_name\u001b[0m \u001b[0;34m+\u001b[0m \u001b[0;34m'_'\u001b[0m \u001b[0;34m+\u001b[0m \u001b[0mstr\u001b[0m\u001b[0;34m(\u001b[0m\u001b[0mi\u001b[0m \u001b[0;34m+\u001b[0m \u001b[0;36m1\u001b[0m\u001b[0;34m)\u001b[0m \u001b[0;34m+\u001b[0m \u001b[0mext\u001b[0m\u001b[0;34m\u001b[0m\u001b[0;34m\u001b[0m\u001b[0m\n\u001b[1;32m    487\u001b[0m \u001b[0;34m\u001b[0m\u001b[0m\n\u001b[0;32m--> 488\u001b[0;31m                 \u001b[0mface\u001b[0m \u001b[0;34m=\u001b[0m \u001b[0mextract_face\u001b[0m\u001b[0;34m(\u001b[0m\u001b[0mim\u001b[0m\u001b[0;34m,\u001b[0m \u001b[0mbox\u001b[0m\u001b[0;34m,\u001b[0m \u001b[0mself\u001b[0m\u001b[0;34m.\u001b[0m\u001b[0mimage_size\u001b[0m\u001b[0;34m,\u001b[0m \u001b[0mself\u001b[0m\u001b[0;34m.\u001b[0m\u001b[0mmargin\u001b[0m\u001b[0;34m,\u001b[0m \u001b[0mface_path\u001b[0m\u001b[0;34m)\u001b[0m\u001b[0;34m\u001b[0m\u001b[0;34m\u001b[0m\u001b[0m\n\u001b[0m\u001b[1;32m    489\u001b[0m                 \u001b[0;32mif\u001b[0m \u001b[0mself\u001b[0m\u001b[0;34m.\u001b[0m\u001b[0mpost_process\u001b[0m\u001b[0;34m:\u001b[0m\u001b[0;34m\u001b[0m\u001b[0;34m\u001b[0m\u001b[0m\n\u001b[1;32m    490\u001b[0m                     \u001b[0mface\u001b[0m \u001b[0;34m=\u001b[0m \u001b[0mfixed_image_standardization\u001b[0m\u001b[0;34m(\u001b[0m\u001b[0mface\u001b[0m\u001b[0;34m)\u001b[0m\u001b[0;34m\u001b[0m\u001b[0;34m\u001b[0m\u001b[0m\n",
            "\u001b[0;32m/usr/local/lib/python3.6/dist-packages/facenet_pytorch/models/utils/detect_face.py\u001b[0m in \u001b[0;36mextract_face\u001b[0;34m(img, box, image_size, margin, save_path)\u001b[0m\n\u001b[1;32m    368\u001b[0m     ]\n\u001b[1;32m    369\u001b[0m \u001b[0;34m\u001b[0m\u001b[0m\n\u001b[0;32m--> 370\u001b[0;31m     \u001b[0mface\u001b[0m \u001b[0;34m=\u001b[0m \u001b[0mcrop_resize\u001b[0m\u001b[0;34m(\u001b[0m\u001b[0mimg\u001b[0m\u001b[0;34m,\u001b[0m \u001b[0mbox\u001b[0m\u001b[0;34m,\u001b[0m \u001b[0mimage_size\u001b[0m\u001b[0;34m)\u001b[0m\u001b[0;34m\u001b[0m\u001b[0;34m\u001b[0m\u001b[0m\n\u001b[0m\u001b[1;32m    371\u001b[0m \u001b[0;34m\u001b[0m\u001b[0m\n\u001b[1;32m    372\u001b[0m     \u001b[0;32mif\u001b[0m \u001b[0msave_path\u001b[0m \u001b[0;32mis\u001b[0m \u001b[0;32mnot\u001b[0m \u001b[0;32mNone\u001b[0m\u001b[0;34m:\u001b[0m\u001b[0;34m\u001b[0m\u001b[0;34m\u001b[0m\u001b[0m\n",
            "\u001b[0;32m/usr/local/lib/python3.6/dist-packages/facenet_pytorch/models/utils/detect_face.py\u001b[0m in \u001b[0;36mcrop_resize\u001b[0;34m(img, box, image_size)\u001b[0m\n\u001b[1;32m    322\u001b[0m         ).byte().squeeze(0).permute(1, 2, 0)\n\u001b[1;32m    323\u001b[0m     \u001b[0;32melse\u001b[0m\u001b[0;34m:\u001b[0m\u001b[0;34m\u001b[0m\u001b[0;34m\u001b[0m\u001b[0m\n\u001b[0;32m--> 324\u001b[0;31m         \u001b[0mout\u001b[0m \u001b[0;34m=\u001b[0m \u001b[0mimg\u001b[0m\u001b[0;34m.\u001b[0m\u001b[0mcrop\u001b[0m\u001b[0;34m(\u001b[0m\u001b[0mbox\u001b[0m\u001b[0;34m)\u001b[0m\u001b[0;34m.\u001b[0m\u001b[0mcopy\u001b[0m\u001b[0;34m(\u001b[0m\u001b[0;34m)\u001b[0m\u001b[0;34m.\u001b[0m\u001b[0mresize\u001b[0m\u001b[0;34m(\u001b[0m\u001b[0;34m(\u001b[0m\u001b[0mimage_size\u001b[0m\u001b[0;34m,\u001b[0m \u001b[0mimage_size\u001b[0m\u001b[0;34m)\u001b[0m\u001b[0;34m,\u001b[0m \u001b[0mImage\u001b[0m\u001b[0;34m.\u001b[0m\u001b[0mBILINEAR\u001b[0m\u001b[0;34m)\u001b[0m\u001b[0;34m\u001b[0m\u001b[0;34m\u001b[0m\u001b[0m\n\u001b[0m\u001b[1;32m    325\u001b[0m     \u001b[0;32mreturn\u001b[0m \u001b[0mout\u001b[0m\u001b[0;34m\u001b[0m\u001b[0;34m\u001b[0m\u001b[0m\n\u001b[1;32m    326\u001b[0m \u001b[0;34m\u001b[0m\u001b[0m\n",
            "\u001b[0;32m/usr/local/lib/python3.6/dist-packages/PIL/Image.py\u001b[0m in \u001b[0;36mresize\u001b[0;34m(self, size, resample, box, reducing_gap)\u001b[0m\n\u001b[1;32m   1871\u001b[0m                 )\n\u001b[1;32m   1872\u001b[0m \u001b[0;34m\u001b[0m\u001b[0m\n\u001b[0;32m-> 1873\u001b[0;31m         \u001b[0;32mreturn\u001b[0m \u001b[0mself\u001b[0m\u001b[0;34m.\u001b[0m\u001b[0m_new\u001b[0m\u001b[0;34m(\u001b[0m\u001b[0mself\u001b[0m\u001b[0;34m.\u001b[0m\u001b[0mim\u001b[0m\u001b[0;34m.\u001b[0m\u001b[0mresize\u001b[0m\u001b[0;34m(\u001b[0m\u001b[0msize\u001b[0m\u001b[0;34m,\u001b[0m \u001b[0mresample\u001b[0m\u001b[0;34m,\u001b[0m \u001b[0mbox\u001b[0m\u001b[0;34m)\u001b[0m\u001b[0;34m)\u001b[0m\u001b[0;34m\u001b[0m\u001b[0;34m\u001b[0m\u001b[0m\n\u001b[0m\u001b[1;32m   1874\u001b[0m \u001b[0;34m\u001b[0m\u001b[0m\n\u001b[1;32m   1875\u001b[0m     \u001b[0;32mdef\u001b[0m \u001b[0mreduce\u001b[0m\u001b[0;34m(\u001b[0m\u001b[0mself\u001b[0m\u001b[0;34m,\u001b[0m \u001b[0mfactor\u001b[0m\u001b[0;34m,\u001b[0m \u001b[0mbox\u001b[0m\u001b[0;34m=\u001b[0m\u001b[0;32mNone\u001b[0m\u001b[0;34m)\u001b[0m\u001b[0;34m:\u001b[0m\u001b[0;34m\u001b[0m\u001b[0;34m\u001b[0m\u001b[0m\n",
            "\u001b[0;31mKeyboardInterrupt\u001b[0m: "
          ]
        }
      ]
    },
    {
      "cell_type": "code",
      "metadata": {
        "id": "EUC87CKaBNyK",
        "outputId": "815387cb-79fa-4ff6-bedf-5fb2bd37057c",
        "colab": {
          "base_uri": "https://localhost:8080/",
          "height": 67,
          "referenced_widgets": [
            "9185c548867e4415830b83689b20d922",
            "f365bed1417e4725a6e8abcdb2549e16",
            "7ab893a58bb840d18e8edcfc61f18c8c",
            "31254754a3ba49789b038909c963ae21",
            "8af3023cad9c43b595275fbc848c48d1",
            "5ee8a80aac24472fa3e0190fc956c3bf",
            "9efc404c8c85438baecbfa97f5da5614",
            "e60e6379e02247e1a86bdec1bba06b48"
          ]
        }
      },
      "source": [
        "test_frames_recorder = []\n",
        "\n",
        "with torch.no_grad():\n",
        "    for video_path in tqdm(all_test_videos):\n",
        "        filename = os.path.basename(video_path)\n",
        "        # Detect all faces occur in the video\n",
        "        faces = detection_pipeline(video_path)\n",
        "        \n",
        "        # Calculate the distances of all faces' feature vectors to the centroid\n",
        "        result_embeddings = process_faces(faces, feature_extractor,embedding_output=True)\n",
        "\n",
        "        if result_embeddings is None:\n",
        "            continue       \n",
        "        test_frames_recorder.append(len(result_embeddings))\n",
        "        "
      ],
      "execution_count": null,
      "outputs": [
        {
          "output_type": "display_data",
          "data": {
            "application/vnd.jupyter.widget-view+json": {
              "model_id": "9185c548867e4415830b83689b20d922",
              "version_major": 2,
              "version_minor": 0
            },
            "text/plain": [
              "HBox(children=(FloatProgress(value=0.0, max=400.0), HTML(value='')))"
            ]
          },
          "metadata": {
            "tags": []
          }
        },
        {
          "output_type": "stream",
          "text": [
            "\n"
          ],
          "name": "stdout"
        }
      ]
    },
    {
      "cell_type": "code",
      "metadata": {
        "id": "opNDT5FjBk3p"
      },
      "source": [
        "from numpy import savetxt\n",
        "test_frames_recorder = np.array(test_frames_recorder)\n",
        "savetxt('test_frames_recorder.csv', test_frames_recorder, delimiter=',')"
      ],
      "execution_count": null,
      "outputs": []
    },
    {
      "cell_type": "code",
      "metadata": {
        "id": "LhuT8HbX0M2h"
      },
      "source": [
        "savetxt('testvideos_np.csv', test_embedding_data, delimiter=',')\n",
        "test_labels = np.array(test_labels)\n",
        "savetxt('testvideos_labels.csv',test_labels,delimiter=',')"
      ],
      "execution_count": null,
      "outputs": []
    },
    {
      "cell_type": "code",
      "metadata": {
        "id": "j2VCvXIFlBQ3"
      },
      "source": [
        "!cp ./testvideos_np.csv /mydrive/Deepfake/testvideos_np.csv\n",
        "!cp ./testvideos_labels.csv /mydrive/Deepfake/testvideos_labels.csv"
      ],
      "execution_count": null,
      "outputs": []
    },
    {
      "cell_type": "markdown",
      "metadata": {
        "id": "o_kTIUB4jZ_c"
      },
      "source": [
        "# Pull from Drive"
      ]
    },
    {
      "cell_type": "code",
      "metadata": {
        "id": "TeCxZun2jkg7"
      },
      "source": [
        "!cp /mydrive/Deepfake/trainvideos_labels.csv  ./trainvideos_labels.csv\n",
        "!cp /mydrive/Deepfake/trainvideos_np.csv ./trainvideos_np.csv\n",
        "\n",
        "!cp /mydrive/Deepfake/testvideos_labels.csv  ./testvideos_labels.csv\n",
        "!cp /mydrive/Deepfake/testvideos_np.csv ./testvideos_np.csv"
      ],
      "execution_count": null,
      "outputs": []
    },
    {
      "cell_type": "code",
      "metadata": {
        "id": "RqHJzvaMjprY"
      },
      "source": [
        "!cp /mydrive/Deepfake/train_frames_recorder.csv ./train_frames_recorder.csv\n"
      ],
      "execution_count": null,
      "outputs": []
    },
    {
      "cell_type": "code",
      "metadata": {
        "id": "vC1afRgqkXAf"
      },
      "source": [
        "from numpy import loadtxt\n",
        "# load array\n",
        "embedding_data = np.array(loadtxt('trainvideos_np.csv', delimiter=','))\n",
        "test_embedding_data = np.array(loadtxt('testvideos_np.csv', delimiter=','))\n",
        "\n",
        "labels = np.array(loadtxt('trainvideos_labels.csv', delimiter=','))\n",
        "test_labels = np.array(loadtxt('testvideos_labels.csv', delimiter=','))\n"
      ],
      "execution_count": null,
      "outputs": []
    },
    {
      "cell_type": "code",
      "metadata": {
        "id": "Tb9-EjBwLEWa",
        "outputId": "4f81d1ae-d9e5-400c-ed4e-13420472858e",
        "colab": {
          "base_uri": "https://localhost:8080/"
        }
      },
      "source": [
        "train_frames_recorder = np.array(loadtxt('train_frames_recorder.csv', delimiter=','))\n",
        "train_frames_recorder.shape"
      ],
      "execution_count": null,
      "outputs": [
        {
          "output_type": "execute_result",
          "data": {
            "text/plain": [
              "(362,)"
            ]
          },
          "metadata": {
            "tags": []
          },
          "execution_count": 37
        }
      ]
    },
    {
      "cell_type": "markdown",
      "metadata": {
        "id": "_E3Ww2y0LT-9"
      },
      "source": [
        "# Embedding Processing"
      ]
    },
    {
      "cell_type": "markdown",
      "metadata": {
        "id": "AUhzBKvJTlm1"
      },
      "source": [
        "Preprocessing"
      ]
    },
    {
      "cell_type": "code",
      "metadata": {
        "id": "AsnMSOJMLTO4",
        "outputId": "09ba4736-c737-4994-bc72-bb47c4039981",
        "colab": {
          "base_uri": "https://localhost:8080/"
        }
      },
      "source": [
        "embedding_data.shape,test_embedding_data.shape,labels.shape,test_labels.shape"
      ],
      "execution_count": null,
      "outputs": [
        {
          "output_type": "execute_result",
          "data": {
            "text/plain": [
              "((81704, 512), (72518, 512), (81704,), (72518,))"
            ]
          },
          "metadata": {
            "tags": []
          },
          "execution_count": 22
        }
      ]
    },
    {
      "cell_type": "code",
      "metadata": {
        "id": "v9YfIbEiMubH",
        "outputId": "ebc094dc-db82-469a-9340-bed12a8225a6",
        "colab": {
          "base_uri": "https://localhost:8080/"
        }
      },
      "source": [
        "X = np.concatenate((embedding_data,test_embedding_data),axis = 0)\n",
        "y = np.concatenate((labels,test_labels),axis = 0)\n",
        "X.shape,y.shape"
      ],
      "execution_count": 99,
      "outputs": [
        {
          "output_type": "execute_result",
          "data": {
            "text/plain": [
              "((154222, 512), (154222,))"
            ]
          },
          "metadata": {
            "tags": []
          },
          "execution_count": 99
        }
      ]
    },
    {
      "cell_type": "code",
      "metadata": {
        "id": "UtrTIrYmMQK6",
        "outputId": "d04c085a-d96d-43ca-e188-ee82b23727d4",
        "colab": {
          "base_uri": "https://localhost:8080/"
        }
      },
      "source": [
        "X_train, X_val, y_train, y_val = train_test_split(X, y, test_size=0.20, random_state=42, stratify=y)\n",
        "X_train.shape,X_val.shape,y_train.shape,y_val.shape"
      ],
      "execution_count": null,
      "outputs": [
        {
          "output_type": "execute_result",
          "data": {
            "text/plain": [
              "((123377, 512), (30845, 512), (123377,), (30845,))"
            ]
          },
          "metadata": {
            "tags": []
          },
          "execution_count": 24
        }
      ]
    },
    {
      "cell_type": "code",
      "metadata": {
        "id": "1iy-OdCbN0lE",
        "outputId": "ed2a0698-720d-4ac6-ab63-84e4a2b780ba",
        "colab": {
          "base_uri": "https://localhost:8080/"
        }
      },
      "source": [
        "from sklearn.preprocessing import StandardScaler\n",
        "scaler = StandardScaler()\n",
        "\n",
        "scaler.fit(X_train)\n",
        "X_train = scaler.transform(X_train)\n",
        "X_val = scaler.transform(X_val)\n",
        "\n",
        "X_train.mean(),X_val.mean()"
      ],
      "execution_count": null,
      "outputs": [
        {
          "output_type": "execute_result",
          "data": {
            "text/plain": [
              "(1.149292793035527e-18, 6.017501122312564e-05)"
            ]
          },
          "metadata": {
            "tags": []
          },
          "execution_count": 25
        }
      ]
    },
    {
      "cell_type": "code",
      "metadata": {
        "id": "78lGtB2WO90C",
        "outputId": "3debc6a6-db24-4444-a167-f204e24050e3",
        "colab": {
          "base_uri": "https://localhost:8080/"
        }
      },
      "source": [
        "from sklearn.decomposition import PCA\n",
        "\n",
        "pca = PCA(.99)\n",
        "pca.fit(X_train)\n",
        "X_train = pca.transform(X_train)\n",
        "X_val = pca.transform(X_val)\n",
        "X_train.shape,X_val.shape"
      ],
      "execution_count": null,
      "outputs": [
        {
          "output_type": "execute_result",
          "data": {
            "text/plain": [
              "((123377, 48), (30845, 48))"
            ]
          },
          "metadata": {
            "tags": []
          },
          "execution_count": 26
        }
      ]
    },
    {
      "cell_type": "code",
      "metadata": {
        "id": "nPxrwevz1evb",
        "outputId": "e41c3a63-4c49-4333-97f2-09dc4e07d37e",
        "colab": {
          "base_uri": "https://localhost:8080/"
        }
      },
      "source": [
        "X_video_pred = scaler.transform(X)\n",
        "X_video_pred = pca.transform(X_video_pred)\n",
        "X_video_pred.shape"
      ],
      "execution_count": 102,
      "outputs": [
        {
          "output_type": "execute_result",
          "data": {
            "text/plain": [
              "(154222, 48)"
            ]
          },
          "metadata": {
            "tags": []
          },
          "execution_count": 102
        }
      ]
    },
    {
      "cell_type": "code",
      "metadata": {
        "id": "3EOSfzId6gYr"
      },
      "source": [
        ""
      ],
      "execution_count": null,
      "outputs": []
    },
    {
      "cell_type": "markdown",
      "metadata": {
        "id": "FL6omNHKTrJ7"
      },
      "source": [
        "# SVM"
      ]
    },
    {
      "cell_type": "code",
      "metadata": {
        "id": "zf_LoU0XRwAG",
        "outputId": "5ae459a9-9520-4866-81e7-3221e45967cb",
        "colab": {
          "background_save": true,
          "base_uri": "https://localhost:8080/"
        }
      },
      "source": [
        "from sklearn import svm\n",
        "clf = svm.SVC()\n",
        "clf.fit(X_train, y_train)"
      ],
      "execution_count": null,
      "outputs": [
        {
          "output_type": "execute_result",
          "data": {
            "text/plain": [
              "SVC(C=1.0, break_ties=False, cache_size=200, class_weight=None, coef0=0.0,\n",
              "    decision_function_shape='ovr', degree=3, gamma='scale', kernel='rbf',\n",
              "    max_iter=-1, probability=False, random_state=None, shrinking=True,\n",
              "    tol=0.001, verbose=False)"
            ]
          },
          "metadata": {
            "tags": []
          },
          "execution_count": 0
        }
      ]
    },
    {
      "cell_type": "code",
      "metadata": {
        "id": "mEdGCtC7UAwv"
      },
      "source": [
        "y_predict = clf.predict(X_val)"
      ],
      "execution_count": null,
      "outputs": []
    },
    {
      "cell_type": "code",
      "metadata": {
        "id": "3bP-b5v1v7sL"
      },
      "source": [
        "y_predict_train = clf.predict(X_train)"
      ],
      "execution_count": 59,
      "outputs": []
    },
    {
      "cell_type": "code",
      "metadata": {
        "id": "MzN632jyu56_",
        "outputId": "77ada9cb-b8b0-4828-f328-ac9c97ed9af2",
        "colab": {
          "base_uri": "https://localhost:8080/"
        }
      },
      "source": [
        "from sklearn.metrics import confusion_matrix\n",
        "confusion_matrix(y_val, y_predict)"
      ],
      "execution_count": null,
      "outputs": [
        {
          "output_type": "execute_result",
          "data": {
            "text/plain": [
              "array([[ 7559,  3516],\n",
              "       [ 1435, 18335]])"
            ]
          },
          "metadata": {
            "tags": []
          },
          "execution_count": 31
        }
      ]
    },
    {
      "cell_type": "code",
      "metadata": {
        "id": "hBS_qByPwGlX",
        "outputId": "87a66030-a426-4138-8cbe-a8e09cb38a32",
        "colab": {
          "base_uri": "https://localhost:8080/"
        }
      },
      "source": [
        "(7559+18335)/(1435+3516+7559+18335)\n",
        "# 0.8404 for real images accuracy\n",
        "#0.8390 for fake images accuracy"
      ],
      "execution_count": null,
      "outputs": [
        {
          "output_type": "execute_result",
          "data": {
            "text/plain": [
              "0.8394877613875831"
            ]
          },
          "metadata": {
            "tags": []
          },
          "execution_count": 32
        }
      ]
    },
    {
      "cell_type": "code",
      "metadata": {
        "id": "4iDGL4_Uwhnm",
        "outputId": "cc20786c-bb55-46ba-8d1f-88cbc8450ea6",
        "colab": {
          "base_uri": "https://localhost:8080/"
        }
      },
      "source": [
        "confusion_matrix(y_train, y_predict_train)"
      ],
      "execution_count": 61,
      "outputs": [
        {
          "output_type": "execute_result",
          "data": {
            "text/plain": [
              "array([[32437, 11863],\n",
              "       [ 4454, 74623]])"
            ]
          },
          "metadata": {
            "tags": []
          },
          "execution_count": 61
        }
      ]
    },
    {
      "cell_type": "code",
      "metadata": {
        "id": "3jKgHsAN0Cci",
        "outputId": "cc0e8910-33e9-4d0c-eb0a-d39018fc8ed8",
        "colab": {
          "base_uri": "https://localhost:8080/"
        }
      },
      "source": [
        "(32437+74623) / (4454+11863+32437+74623)\n",
        "\n",
        "#0.879226 real images accuracy\n",
        "#  0.86 fake images accuracy"
      ],
      "execution_count": null,
      "outputs": [
        {
          "output_type": "execute_result",
          "data": {
            "text/plain": [
              "0.8677468247728507"
            ]
          },
          "metadata": {
            "tags": []
          },
          "execution_count": 242
        }
      ]
    },
    {
      "cell_type": "code",
      "metadata": {
        "id": "GGg18qo9io1K"
      },
      "source": [
        "import pickle\n",
        "filename = 'svm_embedding.sav'\n",
        "pickle.dump(clf, open(filename, 'wb'))"
      ],
      "execution_count": null,
      "outputs": []
    },
    {
      "cell_type": "code",
      "metadata": {
        "id": "21BDrBiOi5P7"
      },
      "source": [
        "!cp  ./svm_embedding.sav /mydrive/Deepfake/svm_embedding.sav "
      ],
      "execution_count": null,
      "outputs": []
    },
    {
      "cell_type": "markdown",
      "metadata": {
        "id": "KePrmhQARWhH"
      },
      "source": [
        "# Accuracy On Videos"
      ]
    },
    {
      "cell_type": "markdown",
      "metadata": {
        "id": "KR5tP-teRZ8l"
      },
      "source": [
        "I should have recorded number of faces, in extraction phase so it will be repeated because of that inattention\n",
        "\n",
        "\n"
      ]
    },
    {
      "cell_type": "code",
      "metadata": {
        "id": "74VHB5KX0KFu",
        "outputId": "1560a528-a5ec-456a-d86f-a422254bfb4f",
        "colab": {
          "base_uri": "https://localhost:8080/"
        }
      },
      "source": [
        "train_frames_recorder = train_frames_recorder.astype(np.int32)\n",
        "test_frames_recorder = test_frames_recorder.astype(np.int32)\n",
        "recorder = np.concatenate((train_frames_recorder,test_frames_recorder),axis = 0)\n",
        "recorder.shape"
      ],
      "execution_count": null,
      "outputs": [
        {
          "output_type": "execute_result",
          "data": {
            "text/plain": [
              "(691,)"
            ]
          },
          "metadata": {
            "tags": []
          },
          "execution_count": 44
        }
      ]
    },
    {
      "cell_type": "code",
      "metadata": {
        "id": "t9Fd9zG7jl3m",
        "outputId": "b39677c9-7dcb-4d9e-a52a-9be6092c5480",
        "colab": {
          "base_uri": "https://localhost:8080/"
        }
      },
      "source": [
        "sum(recorder)"
      ],
      "execution_count": 57,
      "outputs": [
        {
          "output_type": "execute_result",
          "data": {
            "text/plain": [
              "154222"
            ]
          },
          "metadata": {
            "tags": []
          },
          "execution_count": 57
        }
      ]
    },
    {
      "cell_type": "code",
      "metadata": {
        "id": "p7QvLnPLkXeo",
        "outputId": "8d6c276b-672d-4254-8f52-5016ab12178b",
        "colab": {
          "base_uri": "https://localhost:8080/"
        }
      },
      "source": [
        "acc = 0\n",
        "true_counter = 0\n",
        "false_counter = 0\n",
        "accuracy_recorder = []\n",
        "total_true_frames = 0\n",
        "\n",
        "for record in recorder:\n",
        "\n",
        "  predict = clf.predict(X_video_pred[acc:acc+record])\n",
        "  values = y[acc:acc+record] #they all same anyways.\n",
        "  mask = predict == values\n",
        "  total_true = sum(mask)\n",
        "  \n",
        "  \n",
        "\n",
        "  total_true_frames+=total_true\n",
        "\n",
        "  if total_true/len(mask) >= 0.5:\n",
        "    true_counter+=1\n",
        "    accuracy_recorder.append(1)\n",
        "  else:\n",
        "    false_counter+=1\n",
        "    accuracy_recorder.append(0)\n",
        "\n",
        "  acc +=record\n",
        "\n",
        "\n",
        "print(\"total true counter : \",true_counter)\n",
        "print(\"total false counter : \",false_counter)\n",
        "\n",
        "print(\"accuracy : \",true_counter / (true_counter+false_counter))\n",
        " "
      ],
      "execution_count": 104,
      "outputs": [
        {
          "output_type": "stream",
          "text": [
            "total true counter :  654\n",
            "total false counter :  37\n",
            "accuracy :  0.9464544138929089\n"
          ],
          "name": "stdout"
        }
      ]
    },
    {
      "cell_type": "code",
      "metadata": {
        "id": "y2O48llM0esM",
        "outputId": "a3d10785-676f-4b39-d0a0-90246c2219e0",
        "colab": {
          "base_uri": "https://localhost:8080/"
        }
      },
      "source": [
        "print(\"total true frame when it is calculated video by video : \",total_true_frames)\n",
        "\n",
        "print(\"total true frame when it is calculated frame by frame:\",7559 + 18335 + 32437 + 74623)"
      ],
      "execution_count": 107,
      "outputs": [
        {
          "output_type": "stream",
          "text": [
            "total true frame when it is calculated video by video :  132954\n",
            "total true frame when it is calculated frame by frame: 132954\n"
          ],
          "name": "stdout"
        }
      ]
    },
    {
      "cell_type": "code",
      "metadata": {
        "id": "F8dGn7edHd3u"
      },
      "source": [
        ""
      ],
      "execution_count": null,
      "outputs": []
    }
  ]
}