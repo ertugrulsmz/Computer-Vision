{
 "cells": [
  {
   "cell_type": "code",
   "execution_count": 1,
   "metadata": {},
   "outputs": [],
   "source": [
    "from __future__ import print_function, division\n",
    "import os\n",
    "import time\n",
    "import torch\n",
    "import torchvision\n",
    "from torchvision import datasets, models, transforms\n",
    "import torch.optim as optim\n",
    "import numpy as np\n",
    "import matplotlib.pyplot as plt\n",
    "import torch.nn.functional as F"
   ]
  },
  {
   "cell_type": "markdown",
   "metadata": {},
   "source": [
    "# Get Dataset"
   ]
  },
  {
   "cell_type": "code",
   "execution_count": 2,
   "metadata": {},
   "outputs": [
    {
     "name": "stdout",
     "output_type": "stream",
     "text": [
      "{'train': 28821, 'validation': 7066}\n",
      "device :  cuda:0\n"
     ]
    }
   ],
   "source": [
    "from __future__ import print_function, division\n",
    "import os\n",
    "import time\n",
    "import torch\n",
    "import torchvision\n",
    "from torchvision import datasets, models, transforms\n",
    "import torch.optim as optim\n",
    "import numpy as np\n",
    "import matplotlib.pyplot as plt\n",
    "\n",
    "data_dir = \"./images/\"\n",
    "input_shape = 48\n",
    "mean = [0.5, 0.5, 0.5]\n",
    "std = [0.5, 0.5, 0.5]\n",
    "\n",
    "#data transformation\n",
    "data_transforms = {\n",
    "   'train': transforms.Compose([\n",
    "       transforms.CenterCrop(input_shape),\n",
    "       transforms.ToTensor(),\n",
    "       transforms.Normalize(mean, std)\n",
    "   ]),\n",
    "   'validation': transforms.Compose([\n",
    "       transforms.CenterCrop(input_shape),\n",
    "       transforms.ToTensor(),\n",
    "       transforms.Normalize(mean, std)\n",
    "   ]),\n",
    "}\n",
    "\n",
    "image_datasets = {\n",
    "   x: datasets.ImageFolder(\n",
    "       os.path.join(data_dir, x),\n",
    "       transform=data_transforms[x]\n",
    "   )\n",
    "   for x in ['train', 'validation']\n",
    "}\n",
    "\n",
    "dataloaders = {\n",
    "   x: torch.utils.data.DataLoader(\n",
    "       image_datasets[x], batch_size=64,\n",
    "       shuffle=True, num_workers=4\n",
    "   )\n",
    "   for x in ['train', 'validation']\n",
    "}\n",
    "\n",
    "dataset_sizes = {x: len(image_datasets[x]) for x in ['train', 'validation']}\n",
    "\n",
    "print(dataset_sizes)\n",
    "class_names = image_datasets['train'].classes\n",
    "\n",
    "device = torch.device(\"cuda:0\" if torch.cuda.is_available() else \"cpu\")\n",
    "print(\"device : \",device)"
   ]
  },
  {
   "cell_type": "code",
   "execution_count": 3,
   "metadata": {},
   "outputs": [
    {
     "data": {
      "text/plain": [
       "['angry', 'disgust', 'fear', 'happy', 'neutral', 'sad', 'surprise']"
      ]
     },
     "execution_count": 3,
     "metadata": {},
     "output_type": "execute_result"
    }
   ],
   "source": [
    "class_names = image_datasets['train'].classes\n",
    "class_names"
   ]
  },
  {
   "cell_type": "code",
   "execution_count": 4,
   "metadata": {},
   "outputs": [
    {
     "name": "stdout",
     "output_type": "stream",
     "text": [
      "451 28821\n",
      "111 7066\n"
     ]
    }
   ],
   "source": [
    "print(len(dataloaders['train']), len(image_datasets['train']))\n",
    "print(len(dataloaders['validation']), len(image_datasets['validation']))\n"
   ]
  },
  {
   "cell_type": "code",
   "execution_count": 5,
   "metadata": {},
   "outputs": [
    {
     "name": "stdout",
     "output_type": "stream",
     "text": [
      "{'train': 28821, 'validation': 7066}\n",
      "torch.Size([3, 48, 48])\n"
     ]
    },
    {
     "data": {
      "text/plain": [
       "<matplotlib.image.AxesImage at 0x1df3978ecd0>"
      ]
     },
     "execution_count": 5,
     "metadata": {},
     "output_type": "execute_result"
    },
    {
     "data": {
      "image/png": "[encoded data removed]",
      "text/plain": [
       "<Figure size 432x288 with 1 Axes>"
      ]
     },
     "metadata": {
      "needs_background": "light"
     },
     "output_type": "display_data"
    }
   ],
   "source": [
    "dataset_sizes = {x: len(image_datasets[x]) for x in ['train', 'validation']}\n",
    "print(dataset_sizes)\n",
    "first_image = image_datasets['train'][0][0]\n",
    "print(first_image.shape)\n",
    "plt.imshow(first_image[0],cmap='gray')"
   ]
  },
  {
   "cell_type": "code",
   "execution_count": null,
   "metadata": {},
   "outputs": [],
   "source": [
    "images, labels = next(iter(dataloaders['train']))\n",
    "print(\"image shape : \",images.shape)\n",
    "\n",
    "rows = 4\n",
    "columns = 8\n",
    "fig=plt.figure()\n",
    "for i in range(32):\n",
    "   fig.add_subplot(rows, columns, i+1)\n",
    "   plt.title(class_names[labels[i]])\n",
    "   img = images[i].numpy().transpose((1, 2, 0))\n",
    "   img = std * img + mean\n",
    "   plt.imshow(img)\n",
    "plt.show()\n"
   ]
  },
  {
   "cell_type": "markdown",
   "metadata": {},
   "source": [
    "# Model-1\n"
   ]
  },
  {
   "cell_type": "code",
   "execution_count": 12,
   "metadata": {},
   "outputs": [
    {
     "data": {
      "text/plain": [
       "Linear(in_features=2048, out_features=1000, bias=True)"
      ]
     },
     "execution_count": 12,
     "metadata": {},
     "output_type": "execute_result"
    }
   ],
   "source": [
    "inception = models.inception_v3(pretrained=True)\n",
    "inception.fc"
   ]
  },
  {
   "cell_type": "code",
   "execution_count": 13,
   "metadata": {},
   "outputs": [
    {
     "name": "stdout",
     "output_type": "stream",
     "text": [
      "Linear(in_features=2048, out_features=7, bias=True)\n"
     ]
    }
   ],
   "source": [
    "inception_last_layer_input_size = inception.fc.in_features \n",
    "layer = torch.nn.Linear(inception_last_layer_input_size,len(class_names))\n",
    "inception.fc = layer\n",
    "print(inception.fc)"
   ]
  },
  {
   "cell_type": "markdown",
   "metadata": {},
   "source": [
    "# Model-2"
   ]
  },
  {
   "cell_type": "code",
   "execution_count": 23,
   "metadata": {},
   "outputs": [
    {
     "name": "stdout",
     "output_type": "stream",
     "text": [
      "VGG(\n",
      "  (features): Sequential(\n",
      "    (0): Conv2d(3, 64, kernel_size=(3, 3), stride=(1, 1), padding=(1, 1))\n",
      "    (1): ReLU(inplace=True)\n",
      "    (2): Conv2d(64, 64, kernel_size=(3, 3), stride=(1, 1), padding=(1, 1))\n",
      "    (3): ReLU(inplace=True)\n",
      "    (4): MaxPool2d(kernel_size=2, stride=2, padding=0, dilation=1, ceil_mode=False)\n",
      "    (5): Conv2d(64, 128, kernel_size=(3, 3), stride=(1, 1), padding=(1, 1))\n",
      "    (6): ReLU(inplace=True)\n",
      "    (7): Conv2d(128, 128, kernel_size=(3, 3), stride=(1, 1), padding=(1, 1))\n",
      "    (8): ReLU(inplace=True)\n",
      "    (9): MaxPool2d(kernel_size=2, stride=2, padding=0, dilation=1, ceil_mode=False)\n",
      "    (10): Conv2d(128, 256, kernel_size=(3, 3), stride=(1, 1), padding=(1, 1))\n",
      "    (11): ReLU(inplace=True)\n",
      "    (12): Conv2d(256, 256, kernel_size=(3, 3), stride=(1, 1), padding=(1, 1))\n",
      "    (13): ReLU(inplace=True)\n",
      "    (14): Conv2d(256, 256, kernel_size=(3, 3), stride=(1, 1), padding=(1, 1))\n",
      "    (15): ReLU(inplace=True)\n",
      "    (16): Conv2d(256, 256, kernel_size=(3, 3), stride=(1, 1), padding=(1, 1))\n",
      "    (17): ReLU(inplace=True)\n",
      "    (18): MaxPool2d(kernel_size=2, stride=2, padding=0, dilation=1, ceil_mode=False)\n",
      "    (19): Conv2d(256, 512, kernel_size=(3, 3), stride=(1, 1), padding=(1, 1))\n",
      "    (20): ReLU(inplace=True)\n",
      "    (21): Conv2d(512, 512, kernel_size=(3, 3), stride=(1, 1), padding=(1, 1))\n",
      "    (22): ReLU(inplace=True)\n",
      "    (23): Conv2d(512, 512, kernel_size=(3, 3), stride=(1, 1), padding=(1, 1))\n",
      "    (24): ReLU(inplace=True)\n",
      "    (25): Conv2d(512, 512, kernel_size=(3, 3), stride=(1, 1), padding=(1, 1))\n",
      "    (26): ReLU(inplace=True)\n",
      "    (27): MaxPool2d(kernel_size=2, stride=2, padding=0, dilation=1, ceil_mode=False)\n",
      "    (28): Conv2d(512, 512, kernel_size=(3, 3), stride=(1, 1), padding=(1, 1))\n",
      "    (29): ReLU(inplace=True)\n",
      "    (30): Conv2d(512, 512, kernel_size=(3, 3), stride=(1, 1), padding=(1, 1))\n",
      "    (31): ReLU(inplace=True)\n",
      "    (32): Conv2d(512, 512, kernel_size=(3, 3), stride=(1, 1), padding=(1, 1))\n",
      "    (33): ReLU(inplace=True)\n",
      "    (34): Conv2d(512, 512, kernel_size=(3, 3), stride=(1, 1), padding=(1, 1))\n",
      "    (35): ReLU(inplace=True)\n",
      "    (36): MaxPool2d(kernel_size=2, stride=2, padding=0, dilation=1, ceil_mode=False)\n",
      "  )\n",
      "  (avgpool): AdaptiveAvgPool2d(output_size=(7, 7))\n",
      "  (classifier): Sequential(\n",
      "    (0): Linear(in_features=25088, out_features=4096, bias=True)\n",
      "    (1): ReLU(inplace=True)\n",
      "    (2): Dropout(p=0.5, inplace=False)\n",
      "    (3): Linear(in_features=4096, out_features=4096, bias=True)\n",
      "    (4): ReLU(inplace=True)\n",
      "    (5): Dropout(p=0.5, inplace=False)\n",
      "    (6): Linear(in_features=4096, out_features=256, bias=True)\n",
      "    (7): Linear(in_features=256, out_features=64, bias=True)\n",
      "    (8): Linear(in_features=64, out_features=7, bias=True)\n",
      "  )\n",
      ")\n"
     ]
    }
   ],
   "source": [
    "## Load the model based on resnet18\n",
    "resnet18 = torchvision.models.v(pretrained=True)\n",
    "\n",
    "for param in resnet18.parameters():\n",
    "     param.requires_grad = False\n",
    "     \n",
    "last_layer_input_counter = resnet18.classifier[6].in_features\n",
    "classifier_layers = list(resnet18.classifier.children())[:-1]\n",
    "\n",
    "additional_1 = torch.nn.Linear(last_layer_input_counter, 256)\n",
    "additional_2 = torch.nn.Linear(256, 64)\n",
    "additional_3 = torch.nn.Linear(64,len(class_names))\n",
    "\n",
    "classifier_layers.extend([additional_1,additional_2,additional_3])\n",
    "resnet18.classifier = torch.nn.Sequential(*classifier_layers)\n",
    "\n",
    "print(resnet18)"
   ]
  },
  {
   "cell_type": "code",
   "execution_count": 14,
   "metadata": {},
   "outputs": [],
   "source": [
    "class Util():\n",
    "    def training_step(self, batch, model):\n",
    "        images, labels = batch \n",
    "        out = model(images)                  # Generate predictions\n",
    "        loss = F.cross_entropy(out, labels) # Calculate loss\n",
    "        return loss\n",
    "    \n",
    "    def validation_step(self, batch, model):\n",
    "        images, labels = batch \n",
    "        out = model(images)                    # Generate predictions\n",
    "        loss = F.cross_entropy(out, labels)   # Calculate loss\n",
    "        acc = self.accuracy(out, labels)           # Calculate accuracy\n",
    "        return {'val_loss': loss.detach(), 'val_acc': acc}\n",
    "        \n",
    "    def validation_epoch_end(self, outputs):\n",
    "        batch_losses = [x['val_loss'] for x in outputs]\n",
    "        epoch_loss = torch.stack(batch_losses).mean()   # Combine losses\n",
    "        batch_accs = [x['val_acc'] for x in outputs]\n",
    "        epoch_acc = torch.stack(batch_accs).mean()      # Combine accuracies\n",
    "        return {'val_loss': epoch_loss.item(), 'val_acc': epoch_acc.item()}\n",
    "    \n",
    "    def epoch_end(self, epoch, result):\n",
    "        print(\"Epoch [{}], train_loss: {:.4f}, val_loss: {:.4f}, val_acc: {:.4f}\".format(\n",
    "            epoch, result['train_loss'], result['val_loss'], result['val_acc']))\n",
    "    \n",
    "    def accuracy(self,outputs, labels):\n",
    "      _, preds = torch.max(outputs, dim=1)\n",
    "      return torch.tensor(torch.sum(preds == labels).item() / len(preds))\n",
    "    \n",
    "    "
   ]
  },
  {
   "cell_type": "code",
   "execution_count": 17,
   "metadata": {},
   "outputs": [],
   "source": [
    "@torch.no_grad()\n",
    "def evaluate(util, val_loader,model):\n",
    "    model.eval()\n",
    "    outputs = [util.validation_step(batch,model) for batch in val_loader]\n",
    "    return util.validation_epoch_end(outputs)\n",
    "\n",
    "\n",
    "def fit(epochs, lr, model, train_loader, val_loader, opt_func):\n",
    "    history = []\n",
    "    optimizer = opt_func(model.parameters(), lr)\n",
    "    for epoch in range(epochs):\n",
    "        index = 0\n",
    "        # Training Phase \n",
    "        #model.train()\n",
    "        train_losses = []\n",
    "        for batch in train_loader:\n",
    "            optimizer.zero_grad()\n",
    "            loss = util.training_step(batch, model)\n",
    "            train_losses.append(loss)\n",
    "            loss.backward()\n",
    "            optimizer.step()\n",
    "            index +=1\n",
    "            if index % 40 == 0:\n",
    "                print(index,\" : \",loss)\n",
    "                \n",
    "        # Validation phase\n",
    "        result = evaluate(util, val_loader,model)\n",
    "        result['train_loss'] = torch.stack(train_losses).mean().item()\n",
    "        util.epoch_end(epoch, result)\n",
    "        history.append(result)\n",
    "    return history\n"
   ]
  },
  {
   "cell_type": "code",
   "execution_count": 18,
   "metadata": {},
   "outputs": [],
   "source": [
    "util = Util()"
   ]
  },
  {
   "cell_type": "markdown",
   "metadata": {},
   "source": [
    "# Train-1"
   ]
  },
  {
   "cell_type": "code",
   "execution_count": 27,
   "metadata": {
    "scrolled": true
   },
   "outputs": [
    {
     "name": "stdout",
     "output_type": "stream",
     "text": [
      "30  :  tensor(1.8339, grad_fn=<NllLossBackward>)\n",
      "60  :  tensor(1.8467, grad_fn=<NllLossBackward>)\n",
      "90  :  tensor(1.8649, grad_fn=<NllLossBackward>)\n",
      "120  :  tensor(1.7027, grad_fn=<NllLossBackward>)\n",
      "150  :  tensor(1.8230, grad_fn=<NllLossBackward>)\n",
      "180  :  tensor(1.7966, grad_fn=<NllLossBackward>)\n",
      "210  :  tensor(1.7706, grad_fn=<NllLossBackward>)\n",
      "240  :  tensor(1.7630, grad_fn=<NllLossBackward>)\n",
      "270  :  tensor(1.8487, grad_fn=<NllLossBackward>)\n",
      "300  :  tensor(1.7541, grad_fn=<NllLossBackward>)\n",
      "330  :  tensor(1.6447, grad_fn=<NllLossBackward>)\n",
      "360  :  tensor(1.7877, grad_fn=<NllLossBackward>)\n",
      "390  :  tensor(1.6948, grad_fn=<NllLossBackward>)\n",
      "420  :  tensor(1.7229, grad_fn=<NllLossBackward>)\n",
      "450  :  tensor(1.7401, grad_fn=<NllLossBackward>)\n",
      "Epoch [0], train_loss: 1.7824, val_loss: 1.7052, val_acc: 0.3367\n",
      "30  :  tensor(1.6738, grad_fn=<NllLossBackward>)\n",
      "60  :  tensor(1.6615, grad_fn=<NllLossBackward>)\n",
      "90  :  tensor(1.7084, grad_fn=<NllLossBackward>)\n",
      "120  :  tensor(1.6328, grad_fn=<NllLossBackward>)\n",
      "150  :  tensor(1.7950, grad_fn=<NllLossBackward>)\n",
      "180  :  tensor(1.7033, grad_fn=<NllLossBackward>)\n",
      "210  :  tensor(1.7588, grad_fn=<NllLossBackward>)\n",
      "240  :  tensor(1.7396, grad_fn=<NllLossBackward>)\n",
      "270  :  tensor(1.6824, grad_fn=<NllLossBackward>)\n",
      "300  :  tensor(1.6429, grad_fn=<NllLossBackward>)\n",
      "330  :  tensor(1.6807, grad_fn=<NllLossBackward>)\n",
      "360  :  tensor(1.6066, grad_fn=<NllLossBackward>)\n",
      "390  :  tensor(1.5843, grad_fn=<NllLossBackward>)\n",
      "420  :  tensor(1.7021, grad_fn=<NllLossBackward>)\n",
      "450  :  tensor(1.6148, grad_fn=<NllLossBackward>)\n",
      "Epoch [1], train_loss: 1.6883, val_loss: 1.6651, val_acc: 0.3457\n",
      "30  :  tensor(1.6401, grad_fn=<NllLossBackward>)\n",
      "60  :  tensor(1.7452, grad_fn=<NllLossBackward>)\n",
      "90  :  tensor(1.6190, grad_fn=<NllLossBackward>)\n",
      "120  :  tensor(1.7904, grad_fn=<NllLossBackward>)\n",
      "150  :  tensor(1.5950, grad_fn=<NllLossBackward>)\n",
      "180  :  tensor(1.6244, grad_fn=<NllLossBackward>)\n",
      "210  :  tensor(1.7117, grad_fn=<NllLossBackward>)\n",
      "240  :  tensor(1.6154, grad_fn=<NllLossBackward>)\n",
      "270  :  tensor(1.7309, grad_fn=<NllLossBackward>)\n",
      "300  :  tensor(1.6744, grad_fn=<NllLossBackward>)\n",
      "330  :  tensor(1.6661, grad_fn=<NllLossBackward>)\n",
      "360  :  tensor(1.7093, grad_fn=<NllLossBackward>)\n",
      "390  :  tensor(1.6873, grad_fn=<NllLossBackward>)\n",
      "420  :  tensor(1.7066, grad_fn=<NllLossBackward>)\n",
      "450  :  tensor(1.6781, grad_fn=<NllLossBackward>)\n",
      "Epoch [2], train_loss: 1.6573, val_loss: 1.6428, val_acc: 0.3532\n",
      "30  :  tensor(1.7053, grad_fn=<NllLossBackward>)\n",
      "60  :  tensor(1.6444, grad_fn=<NllLossBackward>)\n",
      "90  :  tensor(1.7051, grad_fn=<NllLossBackward>)\n",
      "120  :  tensor(1.6999, grad_fn=<NllLossBackward>)\n",
      "150  :  tensor(1.7892, grad_fn=<NllLossBackward>)\n",
      "180  :  tensor(1.6834, grad_fn=<NllLossBackward>)\n",
      "210  :  tensor(1.6619, grad_fn=<NllLossBackward>)\n",
      "240  :  tensor(1.6486, grad_fn=<NllLossBackward>)\n",
      "270  :  tensor(1.7031, grad_fn=<NllLossBackward>)\n",
      "300  :  tensor(1.4367, grad_fn=<NllLossBackward>)\n",
      "330  :  tensor(1.5607, grad_fn=<NllLossBackward>)\n",
      "360  :  tensor(1.5512, grad_fn=<NllLossBackward>)\n",
      "390  :  tensor(1.6312, grad_fn=<NllLossBackward>)\n",
      "420  :  tensor(1.5469, grad_fn=<NllLossBackward>)\n",
      "450  :  tensor(1.5726, grad_fn=<NllLossBackward>)\n",
      "Epoch [3], train_loss: 1.6395, val_loss: 1.6280, val_acc: 0.3629\n",
      "30  :  tensor(1.6912, grad_fn=<NllLossBackward>)\n",
      "60  :  tensor(1.7084, grad_fn=<NllLossBackward>)\n",
      "90  :  tensor(1.6707, grad_fn=<NllLossBackward>)\n",
      "120  :  tensor(1.6896, grad_fn=<NllLossBackward>)\n",
      "150  :  tensor(1.6638, grad_fn=<NllLossBackward>)\n",
      "180  :  tensor(1.5188, grad_fn=<NllLossBackward>)\n",
      "210  :  tensor(1.5649, grad_fn=<NllLossBackward>)\n",
      "240  :  tensor(1.6800, grad_fn=<NllLossBackward>)\n",
      "270  :  tensor(1.6368, grad_fn=<NllLossBackward>)\n",
      "300  :  tensor(1.6874, grad_fn=<NllLossBackward>)\n",
      "330  :  tensor(1.5821, grad_fn=<NllLossBackward>)\n",
      "360  :  tensor(1.5568, grad_fn=<NllLossBackward>)\n",
      "390  :  tensor(1.5309, grad_fn=<NllLossBackward>)\n",
      "420  :  tensor(1.6100, grad_fn=<NllLossBackward>)\n",
      "450  :  tensor(1.6506, grad_fn=<NllLossBackward>)\n",
      "Epoch [4], train_loss: 1.6260, val_loss: 1.6196, val_acc: 0.3654\n"
     ]
    }
   ],
   "source": [
    "num_epochs = 5\n",
    "opt_func = optim.SGD\n",
    "lr = 0.001\n",
    "history = fit(num_epochs,lr,resnet18,dataloaders['train'],dataloaders['validation'],opt_func)"
   ]
  },
  {
   "cell_type": "markdown",
   "metadata": {},
   "source": [
    "# Train-2"
   ]
  },
  {
   "cell_type": "markdown",
   "metadata": {},
   "source": [
    "Use Cuda This Time"
   ]
  },
  {
   "cell_type": "code",
   "execution_count": 19,
   "metadata": {},
   "outputs": [],
   "source": [
    "def get_default_device():\n",
    "    \"\"\"Pick GPU if available, else CPU\"\"\"\n",
    "    if torch.cuda.is_available():\n",
    "        return torch.device('cuda')\n",
    "    else:\n",
    "        return torch.device('cpu')\n",
    "    \n",
    "def to_device(data, device):\n",
    "    \"\"\"Move tensor(s) to chosen device\"\"\"\n",
    "    if isinstance(data, (list,tuple)):\n",
    "        return [to_device(x, device) for x in data]\n",
    "    return data.to(device, non_blocking=True)\n",
    "\n",
    "class DeviceDataLoader():\n",
    "    \"\"\"Wrap a dataloader to move data to a device\"\"\"\n",
    "    def __init__(self, dl, device):\n",
    "        self.dl = dl\n",
    "        self.device = device\n",
    "        \n",
    "    def __iter__(self):\n",
    "        \"\"\"Yield a batch of data after moving it to device\"\"\"\n",
    "        for b in self.dl: \n",
    "            yield to_device(b, self.device)\n",
    "\n",
    "    def __len__(self):\n",
    "        \"\"\"Number of batches\"\"\"\n",
    "        return len(self.dl)"
   ]
  },
  {
   "cell_type": "code",
   "execution_count": 20,
   "metadata": {},
   "outputs": [
    {
     "data": {
      "text/plain": [
       "device(type='cuda')"
      ]
     },
     "execution_count": 20,
     "metadata": {},
     "output_type": "execute_result"
    }
   ],
   "source": [
    "device = get_default_device()\n",
    "device"
   ]
  },
  {
   "cell_type": "code",
   "execution_count": 22,
   "metadata": {},
   "outputs": [],
   "source": [
    "train_dl = DeviceDataLoader(dataloaders['train'], device)\n",
    "val_dl = DeviceDataLoader(dataloaders['validation'], device)\n",
    "to_device(inception, device);"
   ]
  },
  {
   "cell_type": "code",
   "execution_count": null,
   "metadata": {},
   "outputs": [],
   "source": [
    "num_epochs = 20\n",
    "opt_func = optim.Adam\n",
    "lr = 0.0001\n",
    "history = fit(num_epochs,lr,inception,train_dl,val_dl,opt_func)"
   ]
  },
  {
   "cell_type": "code",
   "execution_count": null,
   "metadata": {},
   "outputs": [],
   "source": []
  },
  {
   "cell_type": "code",
   "execution_count": 29,
   "metadata": {},
   "outputs": [],
   "source": [
    "torch.save(resnet18,\"./model/model_3654\")"
   ]
  },
  {
   "cell_type": "code",
   "execution_count": 30,
   "metadata": {},
   "outputs": [
    {
     "data": {
      "text/plain": [
       "VGG(\n",
       "  (features): Sequential(\n",
       "    (0): Conv2d(3, 64, kernel_size=(3, 3), stride=(1, 1), padding=(1, 1))\n",
       "    (1): ReLU(inplace=True)\n",
       "    (2): Conv2d(64, 64, kernel_size=(3, 3), stride=(1, 1), padding=(1, 1))\n",
       "    (3): ReLU(inplace=True)\n",
       "    (4): MaxPool2d(kernel_size=2, stride=2, padding=0, dilation=1, ceil_mode=False)\n",
       "    (5): Conv2d(64, 128, kernel_size=(3, 3), stride=(1, 1), padding=(1, 1))\n",
       "    (6): ReLU(inplace=True)\n",
       "    (7): Conv2d(128, 128, kernel_size=(3, 3), stride=(1, 1), padding=(1, 1))\n",
       "    (8): ReLU(inplace=True)\n",
       "    (9): MaxPool2d(kernel_size=2, stride=2, padding=0, dilation=1, ceil_mode=False)\n",
       "    (10): Conv2d(128, 256, kernel_size=(3, 3), stride=(1, 1), padding=(1, 1))\n",
       "    (11): ReLU(inplace=True)\n",
       "    (12): Conv2d(256, 256, kernel_size=(3, 3), stride=(1, 1), padding=(1, 1))\n",
       "    (13): ReLU(inplace=True)\n",
       "    (14): Conv2d(256, 256, kernel_size=(3, 3), stride=(1, 1), padding=(1, 1))\n",
       "    (15): ReLU(inplace=True)\n",
       "    (16): Conv2d(256, 256, kernel_size=(3, 3), stride=(1, 1), padding=(1, 1))\n",
       "    (17): ReLU(inplace=True)\n",
       "    (18): MaxPool2d(kernel_size=2, stride=2, padding=0, dilation=1, ceil_mode=False)\n",
       "    (19): Conv2d(256, 512, kernel_size=(3, 3), stride=(1, 1), padding=(1, 1))\n",
       "    (20): ReLU(inplace=True)\n",
       "    (21): Conv2d(512, 512, kernel_size=(3, 3), stride=(1, 1), padding=(1, 1))\n",
       "    (22): ReLU(inplace=True)\n",
       "    (23): Conv2d(512, 512, kernel_size=(3, 3), stride=(1, 1), padding=(1, 1))\n",
       "    (24): ReLU(inplace=True)\n",
       "    (25): Conv2d(512, 512, kernel_size=(3, 3), stride=(1, 1), padding=(1, 1))\n",
       "    (26): ReLU(inplace=True)\n",
       "    (27): MaxPool2d(kernel_size=2, stride=2, padding=0, dilation=1, ceil_mode=False)\n",
       "    (28): Conv2d(512, 512, kernel_size=(3, 3), stride=(1, 1), padding=(1, 1))\n",
       "    (29): ReLU(inplace=True)\n",
       "    (30): Conv2d(512, 512, kernel_size=(3, 3), stride=(1, 1), padding=(1, 1))\n",
       "    (31): ReLU(inplace=True)\n",
       "    (32): Conv2d(512, 512, kernel_size=(3, 3), stride=(1, 1), padding=(1, 1))\n",
       "    (33): ReLU(inplace=True)\n",
       "    (34): Conv2d(512, 512, kernel_size=(3, 3), stride=(1, 1), padding=(1, 1))\n",
       "    (35): ReLU(inplace=True)\n",
       "    (36): MaxPool2d(kernel_size=2, stride=2, padding=0, dilation=1, ceil_mode=False)\n",
       "  )\n",
       "  (avgpool): AdaptiveAvgPool2d(output_size=(7, 7))\n",
       "  (classifier): Sequential(\n",
       "    (0): Linear(in_features=25088, out_features=4096, bias=True)\n",
       "    (1): ReLU(inplace=True)\n",
       "    (2): Dropout(p=0.5, inplace=False)\n",
       "    (3): Linear(in_features=4096, out_features=4096, bias=True)\n",
       "    (4): ReLU(inplace=True)\n",
       "    (5): Dropout(p=0.5, inplace=False)\n",
       "    (6): Linear(in_features=4096, out_features=256, bias=True)\n",
       "    (7): Linear(in_features=256, out_features=64, bias=True)\n",
       "    (8): Linear(in_features=64, out_features=7, bias=True)\n",
       "  )\n",
       ")"
      ]
     },
     "execution_count": 30,
     "metadata": {},
     "output_type": "execute_result"
    }
   ],
   "source": [
    "model = torch.load(\"./model/model_3654\")\n",
    "model.eval()"
   ]
  },
  {
   "cell_type": "code",
   "execution_count": 31,
   "metadata": {},
   "outputs": [
    {
     "data": {
      "text/plain": [
       "{'val_loss': 1.618986964225769, 'val_acc': 0.3666081726551056}"
      ]
     },
     "execution_count": 31,
     "metadata": {},
     "output_type": "execute_result"
    }
   ],
   "source": [
    "result = evaluate(util, dataloaders['validation'],model)\n",
    "result"
   ]
  },
  {
   "cell_type": "code",
   "execution_count": null,
   "metadata": {},
   "outputs": [],
   "source": []
  }
 ],
 "metadata": {
  "kernelspec": {
   "display_name": "Python 3",
   "language": "python",
   "name": "python3"
  },
  "language_info": {
   "codemirror_mode": {
    "name": "ipython",
    "version": 3
   },
   "file_extension": ".py",
   "mimetype": "text/x-python",
   "name": "python",
   "nbconvert_exporter": "python",
   "pygments_lexer": "ipython3",
   "version": "3.8.3"
  }
 },
 "nbformat": 4,
 "nbformat_minor": 4
}
